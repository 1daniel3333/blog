{
 "cells": [
  {
   "attachments": {},
   "cell_type": "markdown",
   "metadata": {},
   "source": [
    "## crawler data"
   ]
  },
  {
   "cell_type": "code",
   "execution_count": 7,
   "metadata": {},
   "outputs": [],
   "source": [
    "import requests\n",
    "import os\n",
    "import zipfile\n",
    "import time\n",
    "import datetime\n",
    "\n",
    "def real_estate_crawler(year, season):\n",
    "  if year > 1000:\n",
    "    year -= 1911\n",
    "\n",
    "  # download real estate zip content\n",
    "  res = requests.get(\"https://plvr.land.moi.gov.tw//DownloadSeason?season=\"+str(year)+\"S\"+str(season)+\"&type=zip&fileName=lvr_landcsv.zip\")\n",
    "\n",
    "  # check if there's error return, if not, continue\n",
    "  try:\n",
    "    if '系統訊息' in res.content.decode():\n",
    "      pass\n",
    "  except:\n",
    "      # save content to file\n",
    "      fname = str(year)+str(season)+'.zip'\n",
    "      open(fname, 'wb').write(res.content)\n",
    "\n",
    "      # make additional folder for files to extract\n",
    "      folder = 'real_estate' + str(year) + str(season)\n",
    "      if not os.path.isdir(folder):\n",
    "        os.mkdir(folder)  \n",
    "\n",
    "      # extract files to the folder\n",
    "      with zipfile.ZipFile(fname, 'r') as zip_ref:\n",
    "          zip_ref.extractall(folder)\n",
    "      time.sleep(5)\n",
    "      #delete zip file\n",
    "      os.remove(fname)\n",
    "      \n",
    "def get_folder_name():\n",
    "    folder_name = os.listdir()\n",
    "    return [x.split('real_estate')[1] for x in folder_name if x.startswith('real_estate')]\n",
    "\n",
    "def get_file():\n",
    "    #get current folder name\n",
    "    current_list=get_folder_name()\n",
    "    print(f'current list: {current_list}')\n",
    "    #get current year in TW format\n",
    "    current_year = datetime.datetime.now().year -1911\n",
    "    \n",
    "    for year in range(112, current_year+1):\n",
    "        \"\"\"which year range you want to check\"\"\"\n",
    "        for season in range(1,5):\n",
    "            ## check if already had extract files\n",
    "            if str(year)+str(season) not in current_list:\n",
    "                print(f' now in year:{year} and quarter: {season}')\n",
    "                real_estate_crawler(year, season)\n",
    "    print('Get data complete.')"
   ]
  },
  {
   "cell_type": "code",
   "execution_count": null,
   "metadata": {},
   "outputs": [],
   "source": [
    "get_file()"
   ]
  },
  {
   "attachments": {},
   "cell_type": "markdown",
   "metadata": {},
   "source": [
    "## Get data\n",
    "\n"
   ]
  },
  {
   "cell_type": "code",
   "execution_count": 50,
   "metadata": {},
   "outputs": [
    {
     "name": "stdout",
     "output_type": "stream",
     "text": [
      "real_estate1061\n",
      "real_estate1062\n",
      "real_estate1063\n",
      "real_estate1064\n",
      "real_estate1071\n",
      "real_estate1072\n",
      "real_estate1073\n",
      "real_estate1074\n",
      "real_estate1081\n",
      "real_estate1082\n",
      "real_estate1083\n",
      "real_estate1084\n",
      "real_estate1091\n",
      "real_estate1092\n",
      "real_estate1093\n",
      "real_estate1094\n"
     ]
    },
    {
     "name": "stderr",
     "output_type": "stream",
     "text": [
      "C:\\Users\\yipin\\AppData\\Local\\Temp\\ipykernel_8408\\2235116703.py:11: DtypeWarning: Columns (3,7,14,15,16,17,18,21,22,24,25) have mixed types. Specify dtype option on import or set low_memory=False.\n",
      "  df = pd.read_csv(os.path.join(d,'b_lvr_land_a.csv'), index_col=False)\n",
      "C:\\Users\\yipin\\AppData\\Local\\Temp\\ipykernel_8408\\2235116703.py:11: DtypeWarning: Columns (3,7,14,15,16,17,18,21,22,24,25,28,29,30,32) have mixed types. Specify dtype option on import or set low_memory=False.\n",
      "  df = pd.read_csv(os.path.join(d,'b_lvr_land_a.csv'), index_col=False)\n"
     ]
    },
    {
     "name": "stdout",
     "output_type": "stream",
     "text": [
      "real_estate1101\n",
      "real_estate1102\n",
      "real_estate1103\n",
      "real_estate1104\n",
      "real_estate1111\n",
      "real_estate1112\n",
      "real_estate1113\n",
      "real_estate1114\n",
      "real_estate1121\n"
     ]
    }
   ],
   "source": [
    "import os\n",
    "import pandas as pd\n",
    "\n",
    "# 歷年資料夾\n",
    "dirs = [d for d in os.listdir() if d[:4] == 'real']\n",
    "\n",
    "dfs = []\n",
    "\n",
    "for d in dirs:\n",
    "    print(d)\n",
    "    df = pd.read_csv(os.path.join(d,'b_lvr_land_a.csv'), index_col=False)\n",
    "    df['Q'] = d[-1]\n",
    "    dfs.append(df.iloc[1:])\n",
    "    \n",
    "df = pd.concat(dfs, sort=True)\n",
    "df.reset_index(inplace=True, drop=True)"
   ]
  },
  {
   "cell_type": "markdown",
   "metadata": {},
   "source": [
    "### Data pre-processing"
   ]
  },
  {
   "cell_type": "code",
   "execution_count": 51,
   "metadata": {},
   "outputs": [],
   "source": [
    "def drop_nan_columns(df, columns):\n",
    "    ## input a dataframe assign a columns name, drop columns with all nan values base on certain columns\n",
    "    for column in columns:\n",
    "        df = df.dropna(subset=[column])\n",
    "    return df\n",
    "\n",
    "df = drop_nan_columns(df, ['單價元平方公尺'])\n",
    "# 不同名稱同項目資料合併\n",
    "# df['單價元平方公尺'].fillna(df['單價元/平方公尺'], inplace=True)\n",
    "# df.drop(columns='單價元/平方公尺')\n",
    "\n",
    "# 建物型態\n",
    "df['建物型態2'] = df['建物型態'].str.split('(').str[0]\n",
    "df.drop(columns=['建物型態'],axis=1,inplace=True)\n",
    "\n",
    "# 刪除有備註之交易（多為親友交易、價格不正常之交易）\n",
    "df = df[df['備註'].isnull()]\n",
    "\n",
    "## give some list and drop columns\n",
    "df = df.drop(['備註','移轉編號','編號','非都市土地使用分區','非都市土地使用編定'], axis=1)\n",
    "\n",
    "##交易筆棟數 change to 土地 建物 車位\n",
    "## a datafram column 交易筆棟數 element format is 土地1建物1車位1, I want to split to three columns which is ['土地','建物','車位',] element is 1, 1, 1\n",
    "df['土地'] = df['交易筆棟數'].str.split('土地',expand=True)[1].str.split('建物',expand=True)[0]\n",
    "df['建物'] = df['交易筆棟數'].str.split('建物',expand=True)[1].str.split('車位',expand=True)[0]\n",
    "df['車位'] = df['交易筆棟數'].str.split('車位',expand=True)[1]\n",
    "df.drop(columns=['交易筆棟數'],axis=1,inplace=True)\n",
    "\n",
    "#split to solely \n",
    "df['交易標的'] = df['交易標的'].str.split('(',expand=True)[0]\n",
    "\n",
    "## rename\n",
    "df.rename(columns={'建物現況格局-廳': '廳數', '建物現況格局-房':'房','建物現況格局-衛':'衛'}, inplace=True)\n",
    "\n",
    "#some data form is corrupted need to drop in 交易年月日 and 建築完成年月\n",
    "df = df[df['交易年月日'].astype(str).apply(lambda x:(x.split('.')[0][-4:]))!='0000']\n",
    "df = df[df['建築完成年月'].astype(str).apply(lambda x:(x.split('.')[0][-2:]))!='00']\n",
    "df = df[df['建築完成年月'].astype(str).apply(lambda x:(x.split('.')[0][-4:-2]))!='00']\n",
    "# space in this column cause error\n",
    "df = df[df['建築完成年月'].apply(lambda x:(' ' not in str(x)))]\n",
    "df = df[df['建築完成年月'].astype(str).apply(lambda x:(len(x)))>5]\n",
    "\n",
    "#translate to date format\n",
    "df['year'] = df['交易年月日'].astype(str).str[:-4].astype(int) + 1911\n",
    "df['trade_date'] = pd.to_datetime(dict(year=df['year'], month=df['交易年月日'].astype(str).apply(lambda x:(x[-4:-2])), day=df['交易年月日'].astype(str).apply(lambda x:(x[-2:]))))\n",
    "\n",
    "df['build_year'] = df['建築完成年月'].astype(str).apply(lambda x:(x.split('.')[0][:-4])).astype(int) + 1911\n",
    "df=df[df['build_year']<2200]\n",
    "\n",
    "## set all day to 1 because encounter some month misatch with day\n",
    "df['build_date'] = pd.to_datetime(dict(year=df['build_year'], month=df['建築完成年月'].astype(str).apply(lambda x:(x.split('.')[0][-4:-2])), day=1))\n",
    "\n",
    "\n",
    "df.drop(columns=['建物現況格局-隔間','year','build_year','Q','交易年月日','建築完成年月',],axis=1,inplace=True)\n"
   ]
  },
  {
   "cell_type": "markdown",
   "metadata": {},
   "source": [
    "### filter data"
   ]
  },
  {
   "cell_type": "code",
   "execution_count": 52,
   "metadata": {},
   "outputs": [],
   "source": [
    "#exclude only 土地\n",
    "df = df[df['交易標的']!='土地']\n",
    "\n",
    "#建物型態2 to only 華夏 住宅大樓 公寓 透天\n",
    "df = df[df['建物型態2'].isin(['住宅大樓','華廈','透天厝','公寓'])]\n",
    "\n",
    "#exclude 商業工業用... but many is 見其他登記事項\n",
    "df = df[df['主要用途'].apply(lambda x:(('住' in str(x)) or ('見其他' in str(x))))]\n"
   ]
  },
  {
   "cell_type": "markdown",
   "metadata": {},
   "source": [
    "### Data quality check"
   ]
  },
  {
   "cell_type": "code",
   "execution_count": 53,
   "metadata": {},
   "outputs": [],
   "source": [
    "# https://w3fs.tainan.gov.tw/Download.ashx?u=LzAwMS9VcGxvYWQvMjA3L3JlbGZpbGUvMjI0ODYvNzgxMTE1Ni8yZGMzOWViYi01OTMzLTRmMGUtOTYzMC1kMTA4ZmY5YjAxMzIucGRm&n=MjAxNTEyMTExNTAyNDk5OTc2MTgucGRm&icon=.pdf\n",
    "# as mentioned above, there's change that housing data would be corrupted\n",
    "\n",
    "# 平方公尺換成坪\n",
    "\n",
    "\n",
    "def translate_m2(df=''):\n",
    "    \"\"\"\n",
    "    Input parameters:\n",
    "        Dataframe from house extract\n",
    "    Return:\n",
    "        Dataframe translate from 平方公尺 to 坪\n",
    "    \"\"\"\n",
    "    if len(df)==0:\n",
    "        raise ValueError('No Dataframe input')\n",
    "    trans_dict = {'主建物面積':'主建物面積', '土地移轉總面積平方公尺':'土地面積','建物移轉總面積平方公尺':'建物面積',\n",
    "                '車位移轉總面積(平方公尺)':'車位','附屬建物面積':'附屬建物面積','陽台面積':'陽台面積','單價元平方公尺':'單價元坪',}\n",
    "    if len(list(df.columns)) != len(list(set(list(trans_dict.keys()) + list(df.columns)))):\n",
    "        raise ValueError('Missing required columns')\n",
    "    \n",
    "    for key, item in trans_dict.items():\n",
    "        df[item] = df[key].astype(float) * 3.30579\n",
    "        if item!=key:\n",
    "            df.drop(columns=[key],axis=1,inplace=True)\n",
    "    return df\n",
    "\n",
    "df = translate_m2(df)\n",
    "\n",
    "#https://www-ws.land.ntpc.gov.tw/001/Upload/oldFile/userfiles/FE/file/0725%e5%af%a6%e5%83%b9%e7%99%bb%e9%8c%84%e6%96%b0%e5%8a%9f%e8%83%bd%20%e5%bb%ba%e5%9d%aa%e5%96%ae%e5%83%b9%e6%96%b0%e7%ae%97%e6%b3%95%20%e9%81%bf%e5%85%8d%e8%99%9b%e5%9d%aa.pdf\n",
    "#explain on column 主建物面積 can be use for caculate 公設比\n",
    "\n"
   ]
  },
  {
   "cell_type": "markdown",
   "metadata": {},
   "source": [
    "### Save data"
   ]
  },
  {
   "cell_type": "code",
   "execution_count": 4,
   "metadata": {},
   "outputs": [],
   "source": [
    "df.to_csv('holi_fonuan.csv', index=False, encoding='utf-8-sig')"
   ]
  },
  {
   "cell_type": "code",
   "execution_count": null,
   "metadata": {},
   "outputs": [],
   "source": [
    "# 將index改成年月日\n",
    "# df = drop_nan_columns(df, ['交易年月日'])\n",
    "# df.index = pd.to_datetime((df['交易年月日'].str[:-4].astype(int) + 1911).astype(str) + df['交易年月日'].str[-4:] ,errors='coerce')"
   ]
  },
  {
   "cell_type": "code",
   "execution_count": null,
   "metadata": {},
   "outputs": [],
   "source": [
    "df[['主要用途','廳數']].groupby(['主要用途']).size().loc[lambda x: x>10].sort_values(ascending=False).reset_index()"
   ]
  },
  {
   "cell_type": "code",
   "execution_count": 146,
   "metadata": {},
   "outputs": [],
   "source": [
    "df.reset_index(inplace=True, drop=True)"
   ]
  },
  {
   "cell_type": "code",
   "execution_count": 54,
   "metadata": {},
   "outputs": [
    {
     "data": {
      "text/plain": [
       "Index(['主建物面積', '主要建材', '主要用途', '交易標的', '土地位置建物門牌', '廳數', '房', '衛', '有無管理組織',\n",
       "       '移轉層次', '總價元', '總樓層數', '車位總價元', '車位類別', '都市土地使用分區', '鄉鎮市區', '附屬建物面積',\n",
       "       '陽台面積', '電梯', '建物型態2', '土地', '建物', '車位', 'trade_date', 'build_date',\n",
       "       '土地面積', '建物面積', '單價元坪'],\n",
       "      dtype='object')"
      ]
     },
     "execution_count": 54,
     "metadata": {},
     "output_type": "execute_result"
    }
   ],
   "source": [
    "df.columns"
   ]
  },
  {
   "cell_type": "code",
   "execution_count": null,
   "metadata": {},
   "outputs": [],
   "source": [
    "columns = ['建物面積', '土地面積',\n",
    "       '建物移轉總面積平方公尺', '移轉層次', '總價元',\n",
    "       '總樓層數', '車位', '車位總價元', '車位類別', '附屬建物面積',\n",
    "       '陽台面積', '單價元坪', '建物型態2', '土地', '建物', '車位', '土地位置建物門牌','trade_date',]\n",
    "df[columns]"
   ]
  },
  {
   "cell_type": "code",
   "execution_count": null,
   "metadata": {},
   "outputs": [],
   "source": []
  },
  {
   "cell_type": "code",
   "execution_count": null,
   "metadata": {},
   "outputs": [],
   "source": []
  }
 ],
 "metadata": {
  "kernelspec": {
   "display_name": "Python 3.10.4 64-bit",
   "language": "python",
   "name": "python3"
  },
  "language_info": {
   "codemirror_mode": {
    "name": "ipython",
    "version": 3
   },
   "file_extension": ".py",
   "mimetype": "text/x-python",
   "name": "python",
   "nbconvert_exporter": "python",
   "pygments_lexer": "ipython3",
   "version": "3.9.13"
  },
  "vscode": {
   "interpreter": {
    "hash": "3ad933181bd8a04b432d3370b9dc3b0662ad032c4dfaa4e4f1596c548f763858"
   }
  }
 },
 "nbformat": 4,
 "nbformat_minor": 4
}
