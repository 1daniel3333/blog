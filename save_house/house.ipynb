{
 "cells": [
  {
   "attachments": {},
   "cell_type": "markdown",
   "metadata": {},
   "source": [
    "## crawler data"
   ]
  },
  {
   "cell_type": "code",
   "execution_count": 7,
   "metadata": {},
   "outputs": [],
   "source": [
    "import requests\n",
    "import os\n",
    "import zipfile\n",
    "import time\n",
    "import datetime\n",
    "\n",
    "def real_estate_crawler(year, season):\n",
    "  if year > 1000:\n",
    "    year -= 1911\n",
    "\n",
    "  # download real estate zip content\n",
    "  res = requests.get(\"https://plvr.land.moi.gov.tw//DownloadSeason?season=\"+str(year)+\"S\"+str(season)+\"&type=zip&fileName=lvr_landcsv.zip\")\n",
    "\n",
    "  # check if there's error return, if not, continue\n",
    "  try:\n",
    "    if '系統訊息' in res.content.decode():\n",
    "      pass\n",
    "  except:\n",
    "      # save content to file\n",
    "      fname = str(year)+str(season)+'.zip'\n",
    "      open(fname, 'wb').write(res.content)\n",
    "\n",
    "      # make additional folder for files to extract\n",
    "      folder = 'real_estate' + str(year) + str(season)\n",
    "      if not os.path.isdir(folder):\n",
    "        os.mkdir(folder)  \n",
    "\n",
    "      # extract files to the folder\n",
    "      with zipfile.ZipFile(fname, 'r') as zip_ref:\n",
    "          zip_ref.extractall(folder)\n",
    "      time.sleep(5)\n",
    "      #delete zip file\n",
    "      os.remove(fname)\n",
    "      \n",
    "def get_folder_name():\n",
    "    folder_name = os.listdir()\n",
    "    return [x.split('real_estate')[1] for x in folder_name if x.startswith('real_estate')]\n",
    "\n",
    "def get_file():\n",
    "    #get current folder name\n",
    "    current_list=get_folder_name()\n",
    "    print(f'current list: {current_list}')\n",
    "    #get current year in TW format\n",
    "    current_year = datetime.datetime.now().year -1911\n",
    "    \n",
    "    for year in range(112, current_year+1):\n",
    "        \"\"\"which year range you want to check\"\"\"\n",
    "        for season in range(1,5):\n",
    "            ## check if already had extract files\n",
    "            if str(year)+str(season) not in current_list:\n",
    "                print(f' now in year:{year} and quarter: {season}')\n",
    "                real_estate_crawler(year, season)\n",
    "    print('Get data complete.')"
   ]
  },
  {
   "cell_type": "code",
   "execution_count": null,
   "metadata": {},
   "outputs": [],
   "source": [
    "get_file()"
   ]
  },
  {
   "attachments": {},
   "cell_type": "markdown",
   "metadata": {},
   "source": [
    "## Get data\n",
    "\n"
   ]
  },
  {
   "cell_type": "code",
   "execution_count": 5,
   "metadata": {},
   "outputs": [
    {
     "name": "stdout",
     "output_type": "stream",
     "text": [
      "real_estate1061\n",
      "real_estate1062\n",
      "real_estate1063\n",
      "real_estate1064\n",
      "real_estate1071\n",
      "real_estate1072\n",
      "real_estate1073\n",
      "real_estate1074\n",
      "real_estate1081\n",
      "real_estate1082\n",
      "real_estate1083\n",
      "real_estate1084\n",
      "real_estate1091\n",
      "real_estate1092\n",
      "real_estate1093\n",
      "real_estate1094\n"
     ]
    },
    {
     "name": "stderr",
     "output_type": "stream",
     "text": [
      "C:\\Users\\yipin\\AppData\\Local\\Temp\\ipykernel_23924\\2235116703.py:11: DtypeWarning: Columns (3,7,14,15,16,17,18,21,22,24,25) have mixed types. Specify dtype option on import or set low_memory=False.\n",
      "  df = pd.read_csv(os.path.join(d,'b_lvr_land_a.csv'), index_col=False)\n",
      "C:\\Users\\yipin\\AppData\\Local\\Temp\\ipykernel_23924\\2235116703.py:11: DtypeWarning: Columns (3,7,14,15,16,17,18,21,22,24,25,28,29,30,32) have mixed types. Specify dtype option on import or set low_memory=False.\n",
      "  df = pd.read_csv(os.path.join(d,'b_lvr_land_a.csv'), index_col=False)\n"
     ]
    },
    {
     "name": "stdout",
     "output_type": "stream",
     "text": [
      "real_estate1101\n",
      "real_estate1102\n",
      "real_estate1103\n",
      "real_estate1104\n",
      "real_estate1111\n",
      "real_estate1112\n",
      "real_estate1113\n",
      "real_estate1114\n",
      "real_estate1121\n"
     ]
    }
   ],
   "source": [
    "import os\n",
    "import pandas as pd\n",
    "\n",
    "# 歷年資料夾\n",
    "dirs = [d for d in os.listdir() if d[:4] == 'real']\n",
    "\n",
    "dfs = []\n",
    "\n",
    "for d in dirs:\n",
    "    print(d)\n",
    "    df = pd.read_csv(os.path.join(d,'b_lvr_land_a.csv'), index_col=False)\n",
    "    df['Q'] = d[-1]\n",
    "    dfs.append(df.iloc[1:])\n",
    "    \n",
    "df = pd.concat(dfs, sort=True)\n",
    "df.reset_index(inplace=True, drop=True)"
   ]
  },
  {
   "cell_type": "code",
   "execution_count": null,
   "metadata": {},
   "outputs": [],
   "source": [
    "df['單價元平方公尺'].fillna(df['單價元/平方公尺'], inplace=True)\n",
    "df.drop(columns='單價元/平方公尺')"
   ]
  },
  {
   "cell_type": "markdown",
   "metadata": {},
   "source": [
    "### Data pre-processing"
   ]
  },
  {
   "cell_type": "code",
   "execution_count": null,
   "metadata": {},
   "outputs": [],
   "source": [
    "def drop_nan_columns(df, columns):\n",
    "    ## input a dataframe assign a columns name, drop columns with all nan values base on certain columns\n",
    "    for column in columns:\n",
    "        df = df.dropna(subset=[column])\n",
    "    return df\n",
    "\n",
    "# 不同名稱同項目資料合併\n",
    "# df['單價元平方公尺'].fillna(df['單價元/平方公尺'], inplace=True)\n",
    "# df.drop(columns='單價元/平方公尺')\n",
    "\n",
    "# 平方公尺換成坪\n",
    "df = drop_nan_columns(df, ['單價元平方公尺'])\n",
    "df['單價元平方公尺'] = df['單價元平方公尺'].astype(float)\n",
    "df['單價元坪'] = df['單價元平方公尺'] * 3.30579\n",
    "\n",
    "# 建物型態\n",
    "df['建物型態2'] = df['建物型態'].str.split('(').str[0]\n",
    "df.drop(columns=['建物型態'],axis=1,inplace=True)\n",
    "\n",
    "# 刪除有備註之交易（多為親友交易、價格不正常之交易）\n",
    "df = df[df['備註'].isnull()]\n",
    "\n",
    "## give some list and drop columns\n",
    "df = df.drop(['備註','移轉編號','編號','非都市土地使用分區','非都市土地使用編定'], axis=1)\n",
    "\n",
    "##交易筆棟數 change to 土地 建物 車位\n",
    "## a datafram column 交易筆棟數 element format is 土地1建物1車位1, I want to split to three columns which is ['土地','建物','車位',] element is 1, 1, 1\n",
    "df['土地'] = df['交易筆棟數'].str.split('土地',expand=True)[1].str.split('建物',expand=True)[0]\n",
    "df['建物'] = df['交易筆棟數'].str.split('建物',expand=True)[1].str.split('車位',expand=True)[0]\n",
    "df['車位'] = df['交易筆棟數'].str.split('車位',expand=True)[1]\n",
    "df.drop(columns=['交易筆棟數'],axis=1,inplace=True)\n",
    "\n",
    "#split to solely \n",
    "df['交易標的'] = df['交易標的'].str.split('(',expand=True)[0]\n",
    "\n",
    "df.drop(columns=['建物現況格局-隔間'],axis=1,inplace=True)\n",
    "\n",
    "## rename\n",
    "df.rename(columns={'建物現況格局-廳': '廳數', '建物現況格局-房':'房','建物現況格局-衛':'衛'}, inplace=True)\n",
    "\n",
    "#some data form is corrupted need to drop in 交易年月日 and 建築完成年月\n",
    "df = df[df['交易年月日'].astype(str).apply(lambda x:(x.split('.')[0][-4:]))!='0000']\n",
    "df = df[df['建築完成年月'].astype(str).apply(lambda x:(x.split('.')[0][-2:]))!='00']\n",
    "df = df[df['建築完成年月'].astype(str).apply(lambda x:(x.split('.')[0][-4:-2]))!='00']\n",
    "df = df[df['建築完成年月'].astype(str).apply(lambda x:(len(x)))>5]\n",
    "\n",
    "#translate to date format\n",
    "df['year'] = df['交易年月日'].astype(str).str[:-4].astype(int) + 1911\n",
    "df['trade_date'] = pd.to_datetime(dict(year=df['year'], month=df['交易年月日'].astype(str).apply(lambda x:(x[-4:-2])), day=df['交易年月日'].astype(str).apply(lambda x:(x[-2:]))))\n",
    "\n",
    "df['build_year'] = df['建築完成年月'].astype(str).str[:-4].astype(int) + 1911\n",
    "# space in this column cause error\n",
    "df = df[df['建築完成年月'].apply(lambda x:(' ' not in str(x)))]\n"
   ]
  },
  {
   "cell_type": "markdown",
   "metadata": {},
   "source": [
    "### filter data"
   ]
  },
  {
   "cell_type": "code",
   "execution_count": 53,
   "metadata": {},
   "outputs": [],
   "source": [
    "#exclude only 土地\n",
    "df = df[df['交易標的']!='土地']\n",
    "\n",
    "#建物型態2 to only 華夏 住宅大樓 公寓 透天\n",
    "df = df[df['建物型態2'].isin(['住宅大樓','華廈','透天厝','公寓'])]\n",
    "\n",
    "#exclude 商業工業用... but many is 見其他登記事項\n",
    "df = df[df['主要用途'].apply(lambda x:(('住' in str(x)) or ('見其他' in str(x))))]\n"
   ]
  },
  {
   "cell_type": "markdown",
   "metadata": {},
   "source": [
    "### Save data"
   ]
  },
  {
   "cell_type": "code",
   "execution_count": 54,
   "metadata": {},
   "outputs": [],
   "source": [
    "df.to_csv('holi_fonuan.csv', index=False, encoding='utf-8-sig')"
   ]
  },
  {
   "cell_type": "code",
   "execution_count": null,
   "metadata": {},
   "outputs": [],
   "source": [
    "# 將index改成年月日\n",
    "# df = drop_nan_columns(df, ['交易年月日'])\n",
    "# df.index = pd.to_datetime((df['交易年月日'].str[:-4].astype(int) + 1911).astype(str) + df['交易年月日'].str[-4:] ,errors='coerce')"
   ]
  },
  {
   "cell_type": "code",
   "execution_count": 55,
   "metadata": {},
   "outputs": [
    {
     "data": {
      "text/html": [
       "<div>\n",
       "<style scoped>\n",
       "    .dataframe tbody tr th:only-of-type {\n",
       "        vertical-align: middle;\n",
       "    }\n",
       "\n",
       "    .dataframe tbody tr th {\n",
       "        vertical-align: top;\n",
       "    }\n",
       "\n",
       "    .dataframe thead th {\n",
       "        text-align: right;\n",
       "    }\n",
       "</style>\n",
       "<table border=\"1\" class=\"dataframe\">\n",
       "  <thead>\n",
       "    <tr style=\"text-align: right;\">\n",
       "      <th></th>\n",
       "      <th>主要用途</th>\n",
       "      <th>0</th>\n",
       "    </tr>\n",
       "  </thead>\n",
       "  <tbody>\n",
       "    <tr>\n",
       "      <th>0</th>\n",
       "      <td>住家用</td>\n",
       "      <td>71862</td>\n",
       "    </tr>\n",
       "    <tr>\n",
       "      <th>1</th>\n",
       "      <td>見其他登記事項</td>\n",
       "      <td>64528</td>\n",
       "    </tr>\n",
       "    <tr>\n",
       "      <th>2</th>\n",
       "      <td>住商用</td>\n",
       "      <td>5076</td>\n",
       "    </tr>\n",
       "    <tr>\n",
       "      <th>3</th>\n",
       "      <td>集合住宅</td>\n",
       "      <td>3056</td>\n",
       "    </tr>\n",
       "    <tr>\n",
       "      <th>4</th>\n",
       "      <td>住宅、停車空間</td>\n",
       "      <td>192</td>\n",
       "    </tr>\n",
       "    <tr>\n",
       "      <th>5</th>\n",
       "      <td>住宅、停車空間、樓梯間</td>\n",
       "      <td>101</td>\n",
       "    </tr>\n",
       "    <tr>\n",
       "      <th>6</th>\n",
       "      <td>住宅，停車空間</td>\n",
       "      <td>76</td>\n",
       "    </tr>\n",
       "    <tr>\n",
       "      <th>7</th>\n",
       "      <td>住工用</td>\n",
       "      <td>67</td>\n",
       "    </tr>\n",
       "    <tr>\n",
       "      <th>8</th>\n",
       "      <td>住宅、樓梯間</td>\n",
       "      <td>59</td>\n",
       "    </tr>\n",
       "    <tr>\n",
       "      <th>9</th>\n",
       "      <td>住宅</td>\n",
       "      <td>49</td>\n",
       "    </tr>\n",
       "    <tr>\n",
       "      <th>10</th>\n",
       "      <td>停車空間、住宅</td>\n",
       "      <td>36</td>\n",
       "    </tr>\n",
       "    <tr>\n",
       "      <th>11</th>\n",
       "      <td>國民住宅</td>\n",
       "      <td>33</td>\n",
       "    </tr>\n",
       "    <tr>\n",
       "      <th>12</th>\n",
       "      <td>住宅、梯間</td>\n",
       "      <td>28</td>\n",
       "    </tr>\n",
       "    <tr>\n",
       "      <th>13</th>\n",
       "      <td>人行道、住宅、停車空間</td>\n",
       "      <td>28</td>\n",
       "    </tr>\n",
       "    <tr>\n",
       "      <th>14</th>\n",
       "      <td>住商辦用</td>\n",
       "      <td>27</td>\n",
       "    </tr>\n",
       "    <tr>\n",
       "      <th>15</th>\n",
       "      <td>停車空間、住宅、樓梯間</td>\n",
       "      <td>25</td>\n",
       "    </tr>\n",
       "    <tr>\n",
       "      <th>16</th>\n",
       "      <td>店舖、住宅</td>\n",
       "      <td>23</td>\n",
       "    </tr>\n",
       "    <tr>\n",
       "      <th>17</th>\n",
       "      <td>住宅、樓梯間、停車空間</td>\n",
       "      <td>17</td>\n",
       "    </tr>\n",
       "    <tr>\n",
       "      <th>18</th>\n",
       "      <td>停車空間、外廊、住宅</td>\n",
       "      <td>15</td>\n",
       "    </tr>\n",
       "    <tr>\n",
       "      <th>19</th>\n",
       "      <td>住宅、停車空間、梯間、水塔間</td>\n",
       "      <td>14</td>\n",
       "    </tr>\n",
       "    <tr>\n",
       "      <th>20</th>\n",
       "      <td>住宅、店舖</td>\n",
       "      <td>12</td>\n",
       "    </tr>\n",
       "    <tr>\n",
       "      <th>21</th>\n",
       "      <td>住宅．停車空間</td>\n",
       "      <td>12</td>\n",
       "    </tr>\n",
       "  </tbody>\n",
       "</table>\n",
       "</div>"
      ],
      "text/plain": [
       "              主要用途      0\n",
       "0              住家用  71862\n",
       "1          見其他登記事項  64528\n",
       "2              住商用   5076\n",
       "3             集合住宅   3056\n",
       "4          住宅、停車空間    192\n",
       "5      住宅、停車空間、樓梯間    101\n",
       "6          住宅，停車空間     76\n",
       "7              住工用     67\n",
       "8           住宅、樓梯間     59\n",
       "9               住宅     49\n",
       "10         停車空間、住宅     36\n",
       "11            國民住宅     33\n",
       "12           住宅、梯間     28\n",
       "13     人行道、住宅、停車空間     28\n",
       "14            住商辦用     27\n",
       "15     停車空間、住宅、樓梯間     25\n",
       "16           店舖、住宅     23\n",
       "17     住宅、樓梯間、停車空間     17\n",
       "18      停車空間、外廊、住宅     15\n",
       "19  住宅、停車空間、梯間、水塔間     14\n",
       "20           住宅、店舖     12\n",
       "21         住宅．停車空間     12"
      ]
     },
     "execution_count": 55,
     "metadata": {},
     "output_type": "execute_result"
    }
   ],
   "source": [
    "df[['主要用途','廳數']].groupby(['主要用途']).size().loc[lambda x: x>10].sort_values(ascending=False).reset_index()"
   ]
  },
  {
   "cell_type": "code",
   "execution_count": 99,
   "metadata": {},
   "outputs": [
    {
     "data": {
      "text/plain": [
       "0         30\n",
       "1         04\n",
       "2         29\n",
       "3         28\n",
       "4         29\n",
       "          ..\n",
       "145538    28\n",
       "145539    28\n",
       "145540    28\n",
       "145541    13\n",
       "145542    20\n",
       "Name: 建築完成年月, Length: 145543, dtype: object"
      ]
     },
     "execution_count": 99,
     "metadata": {},
     "output_type": "execute_result"
    }
   ],
   "source": [
    "df['建築完成年月'].astype(str).apply(lambda x:(x[-2:]))"
   ]
  },
  {
   "cell_type": "code",
   "execution_count": 146,
   "metadata": {},
   "outputs": [],
   "source": [
    "df.reset_index(inplace=True, drop=True)"
   ]
  },
  {
   "cell_type": "code",
   "execution_count": 138,
   "metadata": {},
   "outputs": [],
   "source": [
    "df = df[df['建築完成年月'].astype(str).apply(lambda x:(x.split('.')[0][-4:]))!='0000']"
   ]
  },
  {
   "cell_type": "code",
   "execution_count": 144,
   "metadata": {},
   "outputs": [
    {
     "data": {
      "text/plain": [
       "level_0                        93197\n",
       "index                         165857\n",
       "Q                                  3\n",
       "主建物面積                          52.26\n",
       "主要建材                         見其他登記事項\n",
       "主要用途                             住家用\n",
       "交易年月日                        1090222\n",
       "交易標的                              房地\n",
       "單價元平方公尺                     105243.0\n",
       "土地位置建物門牌                中清路六段５１３巷５６號\n",
       "土地移轉總面積平方公尺                   133.52\n",
       "廳數                                 0\n",
       "房                                  0\n",
       "衛                                  0\n",
       "建物移轉總面積平方公尺                    52.26\n",
       "建築完成年月                       0690100\n",
       "有無管理組織                             無\n",
       "移轉層次                               全\n",
       "總價元                          5500000\n",
       "總樓層數                              一層\n",
       "車位移轉總面積(平方公尺)                    0.0\n",
       "車位總價元                              0\n",
       "車位類別                             NaN\n",
       "都市土地使用分區                都市：其他:第二種住宅區\n",
       "鄉鎮市區                             沙鹿區\n",
       "附屬建物面積                           0.0\n",
       "陽台面積                             0.0\n",
       "電梯                                 無\n",
       "year                            2020\n",
       "單價元坪                    347911.25697\n",
       "建物型態2                            透天厝\n",
       "土地                                 1\n",
       "建物                                 1\n",
       "車位                                 0\n",
       "date             2020-02-22 00:00:00\n",
       "trade_date       2020-02-22 00:00:00\n",
       "build_year                      1980\n",
       "Name: 93196, dtype: object"
      ]
     },
     "execution_count": 144,
     "metadata": {},
     "output_type": "execute_result"
    }
   ],
   "source": [
    "df.iloc[93196]"
   ]
  },
  {
   "cell_type": "code",
   "execution_count": 149,
   "metadata": {},
   "outputs": [
    {
     "data": {
      "text/plain": [
       "0     09\n",
       "1     05\n",
       "2     10\n",
       "5     07\n",
       "6     11\n",
       "9     08\n",
       "10    12\n",
       "14    04\n",
       "17    02\n",
       "30    06\n",
       "31    01\n",
       "40    03\n",
       "Name: 建築完成年月, dtype: object"
      ]
     },
     "execution_count": 149,
     "metadata": {},
     "output_type": "execute_result"
    }
   ],
   "source": [
    "df['建築完成年月'].astype(int).astype(str).apply(lambda x:(x.split('.')[0][-4:-2])).drop_duplicates()"
   ]
  },
  {
   "cell_type": "code",
   "execution_count": null,
   "metadata": {},
   "outputs": [],
   "source": [
    "df['build_date'] = pd.to_datetime(dict(year=df['build_year'], month=df['建築完成年月'].astype(str).apply(lambda x:(x.split('.')[0][-4:-2])), day=df['建築完成年月'].astype(int).astype(str).apply(lambda x:(x.split('.')[0][-2:]))))"
   ]
  },
  {
   "cell_type": "code",
   "execution_count": null,
   "metadata": {},
   "outputs": [],
   "source": []
  },
  {
   "cell_type": "code",
   "execution_count": 104,
   "metadata": {},
   "outputs": [
    {
     "name": "stderr",
     "output_type": "stream",
     "text": [
      "C:\\Users\\yipin\\AppData\\Local\\Temp\\ipykernel_23924\\2352728649.py:1: SettingWithCopyWarning: \n",
      "A value is trying to be set on a copy of a slice from a DataFrame.\n",
      "Try using .loc[row_indexer,col_indexer] = value instead\n",
      "\n",
      "See the caveats in the documentation: https://pandas.pydata.org/pandas-docs/stable/user_guide/indexing.html#returning-a-view-versus-a-copy\n",
      "  df['build_year'] = df['建築完成年月'].astype(str).str[:-4].astype(int) + 1911\n"
     ]
    }
   ],
   "source": [
    "df['build_year'] = df['建築完成年月'].astype(str).str[:-4].astype(int) + 1911"
   ]
  },
  {
   "cell_type": "code",
   "execution_count": 76,
   "metadata": {},
   "outputs": [],
   "source": [
    "## I had a dataframe, one of column is list of string format is 1051004, left 3 need to add 1911, middle 10 is month, right 2 is day\n",
    "import pandas as pd\n",
    "def  add_date(df):\n",
    "    df['date'] = df['交易年月日'].astype(int).apply(lambda x: x[:3] + '1911' + x[3:11] + x[11:])\n",
    "    return df"
   ]
  },
  {
   "cell_type": "code",
   "execution_count": null,
   "metadata": {},
   "outputs": [],
   "source": []
  },
  {
   "cell_type": "code",
   "execution_count": null,
   "metadata": {},
   "outputs": [],
   "source": []
  },
  {
   "cell_type": "code",
   "execution_count": null,
   "metadata": {},
   "outputs": [],
   "source": []
  }
 ],
 "metadata": {
  "kernelspec": {
   "display_name": "Python 3.10.4 64-bit",
   "language": "python",
   "name": "python3"
  },
  "language_info": {
   "codemirror_mode": {
    "name": "ipython",
    "version": 3
   },
   "file_extension": ".py",
   "mimetype": "text/x-python",
   "name": "python",
   "nbconvert_exporter": "python",
   "pygments_lexer": "ipython3",
   "version": "3.9.13"
  },
  "vscode": {
   "interpreter": {
    "hash": "3ad933181bd8a04b432d3370b9dc3b0662ad032c4dfaa4e4f1596c548f763858"
   }
  }
 },
 "nbformat": 4,
 "nbformat_minor": 4
}
