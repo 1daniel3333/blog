{
 "cells": [
  {
   "cell_type": "code",
   "execution_count": 59,
   "metadata": {},
   "outputs": [
    {
     "name": "stdout",
     "output_type": "stream",
     "text": [
      "b'<!doctype html><html lang=\"zh-TW\"><head><meta charset=\"UTF-8\"><meta content=\"/images/branding/googleg/1x/googleg_standard_color_128dp.png\" itemprop=\"image\"><title>\\xe5\\x85\\xa8\\xe7\\x9f\\xa5\\xe8\\xaf\\xbb\\xe8\\x80\\x85\\xe8\\xa7\\x86\\xe8\\xa7\\x92 site:https://www.colamanhua.com/manga-vw74000/ - Google \\xe6\\x90\\x9c\\xe5\\xb0\\x8b</title><script nonce=\"rxm2eHj_fn-bCiihH6QT6Q\">(function(){\\ndocument.documentElement.addEventListener(\"submit\",function(b){var a;if(a=b.target){var c=a.getAttribute(\"data-submitfalse\");a=\"1\"===c||\"q\"===c&&!a.elements.q.value?!0:!1}else a=!1;a&&(b.preventDe'\n"
     ]
    }
   ],
   "source": [
    "from urllib import request\n",
    "from urllib.request import Request, urlopen\n",
    "\n",
    "# url=\"https://www.google.com.tw/search?q=%E5%85%A8%E7%9F%A5%E8%AF%BB%E8%80%85%E8%A7%86%E8%A7%92+site%3Ahttps%3A%2F%2Fwww.colamanhua.com%2Fmanga-vw74000%2F&biw=1310&bih=961&tbs=qdr%3Aw&ei=9NmmZKXMHpj7-Qa-nqyoCQ&ved=0ahUKEwilluyZr_r_AhWYfd4KHT4PC5UQ4dUDCA8&oq=%E5%85%A8%E7%9F%A5%E8%AF%BB%E8%80%85%E8%A7%86%E8%A7%92+site%3Ahttps%3A%2F%2Fwww.colamanhua.com%2Fmanga-vw74000%2F&gs_lcp=Cgxnd3Mtd2l6LXNlcnAQDEoECEEYAVDaF1jaF2DxImgCcAB4AIABJ4gBJ5IBATGYAQCgAQKgAQHAAQE&sclient=gws-wiz-serp\"\n",
    "url=\"https://www.google.com.tw/search?q=%E5%85%A8%E7%9F%A5%E8%AF%BB%E8%80%85%E8%A7%86%E8%A7%92+site%3Ahttps%3A%2F%2Fwww.colamanhua.com%2Fmanga-vw74000%2F&tbs=qdr%3Aw\"\n",
    "\n",
    "request_site = Request(url, headers = {'User-Agent': 'Mozilla/5.0',\n",
    "       'Accept': 'text/html,application/xhtml+xml,application/xml;q=0.9,*/*;q=0.8',\n",
    "       'Accept-Charset': 'ISO-8859-1,utf-8;q=0.7,*;q=0.3',\n",
    "       'Accept-Encoding': 'none',\n",
    "       'Accept-Language': 'en-US,en;q=0.8',\n",
    "       'Connection': 'keep-alive'})\n",
    "webpage = urlopen(request_site).read()\n",
    "print(webpage[:500])"
   ]
  },
  {
   "cell_type": "code",
   "execution_count": null,
   "metadata": {},
   "outputs": [],
   "source": [
    "# reduce url"
   ]
  },
  {
   "cell_type": "code",
   "execution_count": null,
   "metadata": {},
   "outputs": [],
   "source": [
    "https://www.google.com.tw/search?q=%E5%85%A8%E7%9F%A5%E8%AF%BB%E8%80%85%E8%A7%86%E8%A7%92+site%3Ahttps%3A%2F%2Fwww.colamanhua.com%2Fmanga-vw74000%2F&tbs=qdr%3Aw"
   ]
  },
  {
   "cell_type": "code",
   "execution_count": 61,
   "metadata": {},
   "outputs": [
    {
     "name": "stdout",
     "output_type": "stream",
     "text": [
      "https://www.colamanhua.com/manga-vw74000/1/164.html\n"
     ]
    }
   ],
   "source": [
    "from bs4 import BeautifulSoup\n",
    "soup = BeautifulSoup(webpage, 'html.parser')\n",
    "a_tags = soup.find_all('a')\n",
    "for tag in a_tags:\n",
    "    # print(tag.get('href'))\n",
    "    if '全知读者视角' in tag.text:\n",
    "        test = tag.get('href')\n",
    "test=test.split('=')[1].split('&')[0]\n",
    "print(test)"
   ]
  },
  {
   "cell_type": "code",
   "execution_count": 58,
   "metadata": {},
   "outputs": [
    {
     "data": {
      "text/plain": [
       "'%E5%85%A8%E7%9F%A5%E8%AF%BB%E8%80%85%E8%A7%86%E8%A7%92'"
      ]
     },
     "execution_count": 58,
     "metadata": {},
     "output_type": "execute_result"
    }
   ],
   "source": [
    "#translate chinese to google search acceptable form\n",
    "test = '全知读者视角'\n",
    "res = str(test.encode('utf-8')).replace('\\\\x','%').split(\"'\")[1].upper()\n",
    "res"
   ]
  },
  {
   "cell_type": "code",
   "execution_count": null,
   "metadata": {},
   "outputs": [],
   "source": []
  },
  {
   "cell_type": "code",
   "execution_count": null,
   "metadata": {},
   "outputs": [],
   "source": []
  },
  {
   "cell_type": "code",
   "execution_count": null,
   "metadata": {},
   "outputs": [],
   "source": []
  }
 ],
 "metadata": {
  "kernelspec": {
   "display_name": "Python 3.10.4 64-bit",
   "language": "python",
   "name": "python3"
  },
  "language_info": {
   "codemirror_mode": {
    "name": "ipython",
    "version": 3
   },
   "file_extension": ".py",
   "mimetype": "text/x-python",
   "name": "python",
   "nbconvert_exporter": "python",
   "pygments_lexer": "ipython3",
   "version": "3.9.13"
  },
  "vscode": {
   "interpreter": {
    "hash": "3ad933181bd8a04b432d3370b9dc3b0662ad032c4dfaa4e4f1596c548f763858"
   }
  }
 },
 "nbformat": 4,
 "nbformat_minor": 4
}
