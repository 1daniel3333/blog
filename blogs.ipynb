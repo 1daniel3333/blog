{
 "cells": [
  {
   "cell_type": "code",
   "execution_count": 1,
   "metadata": {},
   "outputs": [],
   "source": [
    "from blogs import book_dict"
   ]
  },
  {
   "cell_type": "code",
   "execution_count": 6,
   "metadata": {},
   "outputs": [],
   "source": [
    "tags_key = {}\n",
    "for key,values in book_dict.items():\n",
    "    tags = values.split('#')\n",
    "    if len(tags) > 1:\n",
    "        ## remove \\n and space\n",
    "        tags = [x.replace(\"\\n\", \"\").replace(\" \", \"\") for x in tags[1:]]\n",
    "        for tag in tags:\n",
    "            if tag in tags_key:\n",
    "                tags_key[tag].append(key)\n",
    "            else:\n",
    "                tags_key[tag] = [key]"
   ]
  },
  {
   "cell_type": "code",
   "execution_count": 1,
   "metadata": {},
   "outputs": [],
   "source": [
    "from urllib import request\n",
    "from urllib.request import Request, urlopen\n",
    "from bs4 import BeautifulSoup"
   ]
  },
  {
   "cell_type": "code",
   "execution_count": 9,
   "metadata": {},
   "outputs": [],
   "source": [
    "def crawler_comic(comic_dict={}, conic_name=''):\n",
    "    \"\"\"\n",
    "    Args:\n",
    "        comic_dict (dict, optional): _description_. Defaults to {}.\n",
    "        conic_name (str, optional): _description_. Defaults to ''.\n",
    "    return:\n",
    "            json from google result\n",
    "    \"\"\"\n",
    "    def comic_encode(conic_name=''):\n",
    "            #translate chinese to google search acceptable form\n",
    "            # conic_name = '全知读者视角'\n",
    "            return str(conic_name.encode('utf-8')).replace('\\\\x','%').split(\"'\")[1].upper() \n",
    "    #search in google for recent 1 week and get url\n",
    "    # url=\"https://www.google.com.tw/search?q=%E5%85%A8%E7%9F%A5%E8%AF%BB%E8%80%85%E8%A7%86%E8%A7%92+site%3Ahttps%3A%2F%2Fwww.colamanhua.com%2Fmanga-vw74000%2F&biw=1310&bih=961&tbs=qdr%3Aw&ei=9NmmZKXMHpj7-Qa-nqyoCQ&ved=0ahUKEwilluyZr_r_AhWYfd4KHT4PC5UQ4dUDCA8&oq=%E5%85%A8%E7%9F%A5%E8%AF%BB%E8%80%85%E8%A7%86%E8%A7%92+site%3Ahttps%3A%2F%2Fwww.colamanhua.com%2Fmanga-vw74000%2F&gs_lcp=Cgxnd3Mtd2l6LXNlcnAQDEoECEEYAVDaF1jaF2DxImgCcAB4AIABJ4gBJ5IBATGYAQCgAQKgAQHAAQE&sclient=gws-wiz-serp\"\n",
    "    url=f\"https://www.google.com.tw/search?q={comic_encode(conic_name)}+site%3Ahttps%3A%2F%2Fwww.COLAmanhua.com%2Fmanga-{comic_dict[conic_name]}%2F&tbs=qdr%3Aw\"\n",
    "    request_site = Request(url, headers = {'User-Agent': 'Mozilla/5.0',\n",
    "            'Accept': 'text/html,application/xhtml+xml,application/xml;q=0.9,*/*;q=0.8',\n",
    "            'Accept-Charset': 'ISO-8859-1,utf-8;q=0.7,*;q=0.3',\n",
    "            'Accept-Encoding': 'none',\n",
    "            'Accept-Language': 'en-US,en;q=0.8',\n",
    "            'Connection': 'keep-alive'})\n",
    "    webpage = urlopen(request_site).read()\n",
    "    print('Return data below:')\n",
    "    print(webpage[:500])\n",
    "    return webpage"
   ]
  },
  {
   "cell_type": "code",
   "execution_count": 10,
   "metadata": {},
   "outputs": [
    {
     "name": "stdout",
     "output_type": "stream",
     "text": [
      "Return data below:\n",
      "b'<!doctype html><html lang=\"zh-TW\"><head><meta charset=\"UTF-8\"><meta content=\"/images/branding/googleg/1x/googleg_standard_color_128dp.png\" itemprop=\"image\"><title>\\xe5\\x85\\xa8\\xe7\\x9f\\xa5\\xe8\\xaf\\xbb\\xe8\\x80\\x85\\xe8\\xa7\\x86\\xe8\\xa7\\x92 site:https://www.COLAmanhua.com/manga-vw74000/ - Google \\xe6\\x90\\x9c\\xe5\\xb0\\x8b</title><script nonce=\"Ld59_RqJBMiJ9EUvaIjsVw\">(function(){\\ndocument.documentElement.addEventListener(\"submit\",function(b){var a;if(a=b.target){var c=a.getAttribute(\"data-submitfalse\");a=\"1\"===c||\"q\"===c&&!a.elements.q.value?!0:!1}else a=!1;a&&(b.preventDe'\n"
     ]
    },
    {
     "data": {
      "text/plain": [
       "b'<!doctype html><html lang=\"zh-TW\"><head><meta charset=\"UTF-8\"><meta content=\"/images/branding/googleg/1x/googleg_standard_color_128dp.png\" itemprop=\"image\"><title>\\xe5\\x85\\xa8\\xe7\\x9f\\xa5\\xe8\\xaf\\xbb\\xe8\\x80\\x85\\xe8\\xa7\\x86\\xe8\\xa7\\x92 site:https://www.COLAmanhua.com/manga-vw74000/ - Google \\xe6\\x90\\x9c\\xe5\\xb0\\x8b</title><script nonce=\"Ld59_RqJBMiJ9EUvaIjsVw\">(function(){\\ndocument.documentElement.addEventListener(\"submit\",function(b){var a;if(a=b.target){var c=a.getAttribute(\"data-submitfalse\");a=\"1\"===c||\"q\"===c&&!a.elements.q.value?!0:!1}else a=!1;a&&(b.preventDefault(),b.stopPropagation())},!0);document.documentElement.addEventListener(\"click\",function(b){var a;a:{for(a=b.target;a&&a!==document.documentElement;a=a.parentElement)if(\"A\"===a.tagName){a=\"1\"===a.getAttribute(\"data-nohref\");break a}a=!1}a&&b.preventDefault()},!0);}).call(this);(function(){var a=window.performance;window.start=Date.now();a:{var b=window;if(a){var c=a.timing;if(c){var d=c.navigationStart,f=c.responseStart;if(f>d&&f<=window.start){window.start=f;b.wsrt=f-d;break a}}a.now&&(b.wsrt=Math.floor(a.now()))}}window.google=window.google||{};var h=function(g){g&&g.target.setAttribute(\"data-iml\",String(Date.now()))};document.documentElement.addEventListener(\"load\",h,!0);google.rglh=function(){document.documentElement.removeEventListener(\"load\",h,!0)};}).call(this);(function(){window._skwEvts=[];})();(function(){window.google.erd={jsr:1,bv:1836,de:true};})();(function(){var sdo=false;var mei=10;\\nvar l=this||self;var m,n=null!=(m=l.mei)?m:1,p,q=null!=(p=l.sdo)?p:!0,r=0,t,u=google.erd,v=u.jsr;google.ml=function(a,b,d,h,e){e=void 0===e?2:e;b&&(t=a&&a.message);if(google.dl)return google.dl(a,e,d),null;if(0>v){window.console&&console.error(a,d);if(-2===v)throw a;b=!1}else b=!a||!a.message||\"Error loading script\"===a.message||r>=n&&!h?!1:!0;if(!b)return null;r++;d=d||{};b=encodeURIComponent;var c=\"/gen_204?atyp=i&ei=\"+b(google.kEI);google.kEXPI&&(c+=\"&jexpid=\"+b(google.kEXPI));c+=\"&srcpg=\"+b(google.sn)+\"&jsr=\"+b(u.jsr)+\"&bver=\"+b(u.bv);var f=a.lineNumber;void 0!==f&&(c+=\"&line=\"+f);var g=\\na.fileName;g&&(0<g.indexOf(\"-extension:/\")&&(e=3),c+=\"&script=\"+b(g),f&&g===window.location.href&&(f=document.documentElement.outerHTML.split(\"\\\\n\")[f],c+=\"&cad=\"+b(f?f.substring(0,300):\"No script found.\")));c+=\"&cad=ple_\"+google.ple+\".aple_\"+google.aple;google.ple&&1===google.ple&&(e=2);c+=\"&jsel=\"+e;for(var k in d)c+=\"&\",c+=b(k),c+=\"=\",c+=b(d[k]);c=c+\"&emsg=\"+b(a.name+\": \"+a.message);c=c+\"&jsst=\"+b(a.stack||\"N/A\");12288<=c.length&&(c=c.substr(0,12288));a=c;h||google.log(0,\"\",a);return a};window.onerror=function(a,b,d,h,e){if(t!==a){a=e instanceof Error?e:Error(a);void 0===d||\"lineNumber\"in a||(a.lineNumber=d);void 0===b||\"fileName\"in a||(a.fileName=b);b=void 0;if(a.stack&&(-1!==a.stack.indexOf(\"?xjs=s0\")||-1!==a.stack.indexOf(\"&xjs=s0\"))){b=document.querySelectorAll(\"script[src*=\\\\\\\\/xjs\\\\\\\\/_\\\\\\\\/js\\\\\\\\/]\");for(h=d=0;h<b.length;h++)d+=b[h].async?1:0;var c=e=h=-1,f=-1,g=-1;if(performance&&google.xjsu){h=0;e=google.timers.load.t.xjsee?1:0;f=c=0;g=performance.getEntriesByType(\"resource\");for(var k=\\n0;k<g.length;k++)-1!==g[k].name.indexOf(google.xjsu)&&(h=1),-1!==g[k].name.indexOf(\"/xjs/_/js/\")&&(c+=1,f+=\"script\"===g[k].initiatorType?1:0);g=c-f}b={cad:\"pl_\"+h+\".pe_\"+e+\".asc_\"+d+\".tsc_\"+b.length+\".fasc_\"+(b.length-d)+\".lxc_\"+c+\".lsx_\"+f+\".lnsx_\"+g}}google.ml(a,!1,b,!1,\"SyntaxError\"===a.name||\"SyntaxError\"===a.message.substring(0,11)||-1!==a.message.indexOf(\"Script error\")?3:0)}t=null;q&&r>=n&&(window.onerror=null)};})();(function(){var c=[],e=0;window.ping=function(b){-1==b.indexOf(\"&zx\")&&(b+=\"&zx=\"+Date.now());var a=new Image,d=e++;c[d]=a;a.onerror=a.onload=a.onabort=function(){delete c[d]};a.src=b};}).call(this);</script><style>a{color:#1a0dab;text-decoration:none;tap-highlight-color:rgba(0,0,0,.10)}a:visited{color:#4b11a8}a:hover{text-decoration:underline}img{border:0}html{font-family:arial,sans-serif;font-size:14px;line-height:20px;text-size-adjust:100%;color:#3c4043;word-wrap:break-word;background-color:#fff}.bRsWnc{background-color:#fff;border-top:1px solid #dadce0;height:39px;overflow:hidden}.N6RWV{height:51px;overflow-scrolling:touch;overflow-x:auto;overflow-y:hidden}.Uv67qb{box-pack:justify;font-size:12px;line-height:37px;justify-content:space-between;justify-content:space-between}.Uv67qb a,.Uv67qb span{color:#70757a;display:block;flex:none;padding:0 16px;text-align:center;text-transform:uppercase;}span.OXXup{border-bottom:2px solid #4285f4;color:#4285f4;font-weight:bold}a.eZt8xd:visited{color:#70757a}.FElbsf{border-left:1px solid rgba(0,0,0,.12)}header article{overflow:visible}.Pg70bf{height:39px;display:box;display:flex;display:flex;width:100%}.H0PQec{position:relative;flex:1}.sbc{display:flex;width:100%}.Pg70bf input{margin:2px 4px 2px 8px;}.x{width:26px;color:#70757a;font:27px/38px arial, sans-serif;line-height:40px;}#qdClwb{flex:0 0 auto;width:39px;height:39px;border-bottom:0;padding:0;border-top-right-radius:8px;background-color:#1a73e8;border:1px solid #1a73e8;background-image:url(data:image/gif;base64,R0lGODdhJAAjAPIHAODr/nCk+MPZ/FmV96zK+/7+/5K5+kqL9iwAAAAAJAAjAEADani63P4wykmbKcQRXDscQAEMXmmeaLQVLCukzyC09AjfeK7v/MAajACLhPMVAgwjsUcEiZa8xgAYrVqv2Kx2iwsIAAABknfBBAKrTE4IcMyot8ur8datqIbQfJdnAfo2WE6BV05wXIiJigkAOw==);}.sc{font-size:16px;position:absolute;top:39px;left:0;right:0;box-shadow:0 2px 5px rgba(0,0,0,.2);z-index:2;background-color:#fff}.sc>div{padding:10px 10px;padding-left:16px;padding-left:14px;border-top:1px solid #dfe1e5;}.scs{background-color:#fafafa;}.noHIxc{display:block;font-size:16px;padding:0 0 0 8px;flex:1;height:35px;outline:none;border:none;width:100%;-webkit-tap-highlight-color:rgba(0,0,0,0);overflow:hidden;}.sbc input[type=text]{background:none}.bz1lBb{background-color:#fff;border-radius:8px 8px 0 0;box-shadow:0 0 0 1px #dfe1e5;margin-top:24px;}.KP7LCb{border-radius:0 0 8px 8px;box-shadow:0px 1px 0px 1px #dfe1e5;margin-bottom:30px;overflow:hidden}html{background-color:#fff}body{margin:0 auto 0 156px;max-width:652px;min-width:652px;padding:0 8px}.cOl4Id{letter-spacing:-1px;text-align:center;font:22pt Futura, Arial, sans-serif;height:37px;font-smoothing:antialiased;padding:32px 28px 0 24px;position:absolute;left:0;top:0}.cOl4Id span{display:inline-block}.V6gwVd{color:#4285f4}.iWkuvd{color:#ea4335}.cDrQ7{color:#fcc934}.ntlR9{color:#34a853}.tJ3Myc{-webkit-transform:rotate(-20deg);position:relative;left:-1px;display:inline-block}footer{text-align:center;margin-top:18px}footer a,footer a:visited,.smiUbb{color:#70757a}.xeDNfc{margin:0 13px;display:inline-block}#EOlPnc{margin-top:36px}#EOlPnc>div{margin:20px}.Srfpq{color:#70757a}</style></head><body jsmodel=\"hspDDf\"><header id=\"hdr\"><script nonce=\"Ld59_RqJBMiJ9EUvaIjsVw\">(function(){\\nvar k=this||self,l=function(a){var b=typeof a;return\"object\"==b&&null!=a||\"function\"==b},m=function(a,b){function c(){}c.prototype=b.prototype;a.j=b.prototype;a.prototype=new c;a.prototype.constructor=a;a.l=function(d,e,f){for(var g=Array(arguments.length-2),h=2;h<arguments.length;h++)g[h-2]=arguments[h];return b.prototype[e].apply(d,g)}};var n=Array.prototype.indexOf?function(a,b){return Array.prototype.indexOf.call(a,b,void 0)}:function(a,b){if(\"string\"===typeof a)return\"string\"!==typeof b||1!=b.length?-1:a.indexOf(b,0);for(var c=0;c<a.length;c++)if(c in a&&a[c]===b)return c;return-1};var p=function(a){return\"string\"==typeof a.className?a.className:a.getAttribute&&a.getAttribute(\"class\")||\"\"},q=function(a,b){\"string\"==typeof a.className?a.className=b:a.setAttribute&&a.setAttribute(\"class\",b)},r=function(a,b){a.classList?b=a.classList.contains(b):(a=a.classList?a.classList:p(a).match(/\\\\S+/g)||[],b=0<=n(a,b));return b},v=function(){var a=t,b=u;a.classList?a.classList.remove(b):r(a,b)&&q(a,Array.prototype.filter.call(a.classList?a.classList:p(a).match(/\\\\S+/g)||[],function(c){return c!=\\nb}).join(\" \"))};function w(){var a=k.navigator;return a&&(a=a.userAgent)?a:\"\"};var x=function(a){x[\" \"](a);return a};x[\" \"]=function(){};var y=-1!=w().indexOf(\"Gecko\")&&!(-1!=w().toLowerCase().indexOf(\"webkit\")&&-1==w().indexOf(\"Edge\"))&&!(-1!=w().indexOf(\"Trident\")||-1!=w().indexOf(\"MSIE\"))&&-1==w().indexOf(\"Edge\");var z=function(a,b){this.type=a;this.target=b};z.prototype.g=function(){};var A=function(){if(!k.addEventListener||!Object.defineProperty)return!1;var a=!1,b=Object.defineProperty({},\"passive\",{get:function(){a=!0}});try{var c=function(){};k.addEventListener(\"test\",c,b);k.removeEventListener(\"test\",c,b)}catch(d){}return a}();var C=function(a){z.call(this,a?a.type:\"\");this.relatedTarget=this.target=null;this.button=this.screenY=this.screenX=this.clientY=this.clientX=0;this.key=\"\";this.keyCode=0;this.metaKey=this.shiftKey=this.altKey=this.ctrlKey=!1;this.state=null;this.pointerId=0;this.pointerType=\"\";this.h=null;if(a){var b=this.type=a.type,c=a.changedTouches&&a.changedTouches.length?a.changedTouches[0]:null;this.target=a.target||a.srcElement;var d=a.relatedTarget;if(d){if(y){a:{try{x(d.nodeName);var e=!0;break a}catch(f){}e=\\n!1}e||(d=null)}}else\"mouseover\"==b?d=a.fromElement:\"mouseout\"==b&&(d=a.toElement);this.relatedTarget=d;c?(this.clientX=void 0!==c.clientX?c.clientX:c.pageX,this.clientY=void 0!==c.clientY?c.clientY:c.pageY,this.screenX=c.screenX||0,this.screenY=c.screenY||0):(this.clientX=void 0!==a.clientX?a.clientX:a.pageX,this.clientY=void 0!==a.clientY?a.clientY:a.pageY,this.screenX=a.screenX||0,this.screenY=a.screenY||0);this.button=a.button;this.keyCode=a.keyCode||0;this.key=a.key||\"\";this.ctrlKey=a.ctrlKey;this.altKey=a.altKey;this.shiftKey=a.shiftKey;this.metaKey=a.metaKey;this.pointerId=a.pointerId||0;this.pointerType=\"string\"===typeof a.pointerType?a.pointerType:B[a.pointerType]||\"\";this.state=a.state;this.h=a;a.defaultPrevented&&C.j.g.call(this)}};m(C,z);var B={2:\"touch\",3:\"pen\",4:\"mouse\"};C.prototype.g=function(){C.j.g.call(this);var a=this.h;a.preventDefault?a.preventDefault():a.returnValue=!1};var D=\"closure_listenable_\"+(1E6*Math.random()|0);var E=0;var F=function(a,b,c,d,e){this.listener=a;this.proxy=null;this.src=b;this.type=c;this.capture=!!d;this.h=e;this.key=++E;this.g=this.i=!1},G=function(a){a.g=!0;a.listener=null;a.proxy=null;a.src=null;a.h=null};var H=function(a){this.src=a;this.g={};this.h=0};H.prototype.add=function(a,b,c,d,e){var f=a.toString();a=this.g[f];a||(a=this.g[f]=[],this.h++);var g;a:{for(g=0;g<a.length;++g){var h=a[g];if(!h.g&&h.listener==b&&h.capture==!!d&&h.h==e)break a}g=-1}-1<g?(b=a[g],c||(b.i=!1)):(b=new F(b,this.src,f,!!d,e),b.i=c,a.push(b));return b};var I=\"closure_lm_\"+(1E6*Math.random()|0),J={},K=0,M=function(a,b,c,d,e){if(d&&d.once)return L(a,b,c,d,e);if(Array.isArray(b)){for(var f=0;f<b.length;f++)M(a,b[f],c,d,e);return null}c=N(c);return a&&a[D]?a.g(b,c,l(d)?!!d.capture:!!d,e):O(a,b,c,!1,d,e)},O=function(a,b,c,d,e,f){if(!b)throw Error(\"a\");var g=l(e)?!!e.capture:!!e,h=P(a);h||(a[I]=h=new H(a));c=h.add(b,c,d,g,f);if(c.proxy)return c;d=Q();c.proxy=d;d.src=a;d.listener=c;if(a.addEventListener)A||(e=g),void 0===e&&(e=!1),a.addEventListener(b.toString(),d,e);else if(a.attachEvent)a.attachEvent(R(b.toString()),d);else if(a.addListener&&a.removeListener)a.addListener(d);else throw Error(\"b\");K++;return c},Q=function(){var a=S,b=function(c){return a.call(b.src,b.listener,c)};return b},L=function(a,b,c,d,e){if(Array.isArray(b)){for(var f=0;f<b.length;f++)L(a,b[f],c,d,e);return null}c=N(c);return a&&a[D]?a.h(b,c,l(d)?!!d.capture:!!d,e):O(a,b,c,!0,d,e)},T=function(a){if(\"number\"!==typeof a&&a&&!a.g){var b=a.src;if(b&&b[D])b.s(a);else{var c=a.type,d=a.proxy;b.removeEventListener?b.removeEventListener(c,d,a.capture):b.detachEvent?b.detachEvent(R(c),d):b.addListener&&b.removeListener&&b.removeListener(d);K--;if(c=P(b)){d=a.type;if(d in c.g){var e=c.g[d],f=n(e,a),g;(g=0<=f)&&Array.prototype.splice.call(e,f,1);g&&(G(a),0==c.g[d].length&&(delete c.g[d],c.h--))}0==c.h&&(c.src=null,b[I]=null)}else G(a)}}},R=function(a){return a in J?J[a]:J[a]=\"on\"+a},S=function(a,b){if(a.g)a=!0;else{b=new C(b,this);var c=a.listener,d=a.h||a.src;a.i&&T(a);a=c.call(d,b)}return a},P=function(a){a=a[I];return a instanceof H?a:null},U=\"__closure_events_fn_\"+(1E9*Math.random()>>>0),N=function(a){if(\"function\"===typeof a)return a;a[U]||(a[U]=function(b){return a.handleEvent(b)});return a[U]};var u,t=document.documentElement,V;function W(){T(V);V=L(t,\"mousedown\",function(){v();X()},{capture:!0})}function X(){T(V);V=M(t,\"keydown\",function(a){if(9===a.keyCode){a=t;var b=u;if(a.classList)a.classList.add(b);else if(!r(a,b)){var c=p(a);q(a,c+(0<c.length?\" \"+b:b))}W()}})};u=\"zAoYTe\";X();}).call(this);</script><div class=\"cOl4Id\"><a href=\"/?sa=X&amp;ved=0ahUKEwigmb_hp6yAAxUsmVYBHRmJC7sQOwgC\"><span class=\"V6gwVd\">G</span><span class=\"iWkuvd\">o</span><span class=\"cDrQ7\">o</span><span class=\"V6gwVd\">g</span><span class=\"ntlR9\">l</span><span class=\"iWkuvd tJ3Myc\">e</span></a></div><div class=\"bz1lBb\"><form class=\"Pg70bf\" id=\"sf\"><input name=\"tbs\" value=\"qdr:w\" type=\"hidden\"><div class=\"H0PQec\"><div class=\"sbc esbc\"><input class=\"noHIxc\" value=\"\\xe5\\x85\\xa8\\xe7\\x9f\\xa5\\xe8\\xaf\\xbb\\xe8\\x80\\x85\\xe8\\xa7\\x86\\xe8\\xa7\\x92 site:https://www.COLAmanhua.com/manga-vw74000/\" autocapitalize=\"none\" autocomplete=\"off\" name=\"q\" spellcheck=\"false\" type=\"text\"><input name=\"oq\" type=\"hidden\"><input name=\"aqs\" type=\"hidden\"><div class=\"x\">\\xc3\\x97</div><div class=\"sc\"></div></div></div><button id=\"qdClwb\" type=\"submit\"></button></form></div><noscript><meta content=\"0;url=/search?q=%E5%85%A8%E7%9F%A5%E8%AF%BB%E8%80%85%E8%A7%86%E8%A7%92+site:https://www.COLAmanhua.com/manga-vw74000/&amp;tbs=qdr:w&amp;gbv=1&amp;sei=CgnBZKDsC6yy2roPmZKu2As\" http-equiv=\"refresh\"><style>table,div,span,p{display:none}</style><div style=\"display:block\">\\xe5\\xa6\\x82\\xe6\\x9e\\x9c\\xe7\\xb3\\xbb\\xe7\\xb5\\xb1\\xe6\\xb2\\x92\\xe6\\x9c\\x89\\xe5\\x9c\\xa8\\xe6\\x95\\xb8\\xe7\\xa7\\x92\\xe9\\x90\\x98\\xe5\\xbe\\x8c\\xe5\\xb0\\x87\\xe6\\x82\\xa8\\xe9\\x87\\x8d\\xe6\\x96\\xb0\\xe5\\xb0\\x8e\\xe5\\x90\\x91\\xef\\xbc\\x8c\\xe8\\xab\\x8b\\xe6\\x8c\\x89\\xe4\\xb8\\x80\\xe4\\xb8\\x8b<a href=\"/search?q=%E5%85%A8%E7%9F%A5%E8%AF%BB%E8%80%85%E8%A7%86%E8%A7%92+site:https://www.COLAmanhua.com/manga-vw74000/&amp;tbs=qdr:w&amp;gbv=1&amp;sei=CgnBZKDsC6yy2roPmZKu2As\">\\xe9\\x80\\x99\\xe8\\xa3\\xa1</a>\\xe3\\x80\\x82</div></noscript></header><div id=\"main\"><div><div class=\"KP7LCb\"> <div class=\"bRsWnc\"> <div class=\"N6RWV\"> <div class=\"Pg70bf Uv67qb\"> <span class=\"OXXup\">\\xe5\\x85\\xa8\\xe9\\x83\\xa8</span><a class=\"eZt8xd\" href=\"/search?q=%E5%85%A8%E7%9F%A5%E8%AF%BB%E8%80%85%E8%A7%86%E8%A7%92+site:https://www.COLAmanhua.com/manga-vw74000/&amp;source=lnms&amp;tbm=isch&amp;tbs=qdr:w&amp;sa=X&amp;ved=0ahUKEwigmb_hp6yAAxUsmVYBHRmJC7sQ_AUIBigB\">\\xe5\\x9c\\x96\\xe7\\x89\\x87</a><a class=\"eZt8xd\" href=\"/search?q=%E5%85%A8%E7%9F%A5%E8%AF%BB%E8%80%85%E8%A7%86%E8%A7%92+site:https://www.COLAmanhua.com/manga-vw74000/&amp;source=lnms&amp;tbm=vid&amp;tbs=qdr:w&amp;sa=X&amp;ved=0ahUKEwigmb_hp6yAAxUsmVYBHRmJC7sQ_AUIBygC\">\\xe5\\xbd\\xb1\\xe7\\x89\\x87</a><a class=\"eZt8xd\" href=\"/search?q=%E5%85%A8%E7%9F%A5%E8%AF%BB%E8%80%85%E8%A7%86%E8%A7%92+site:https://www.COLAmanhua.com/manga-vw74000/&amp;source=lnms&amp;tbm=shop&amp;sa=X&amp;ved=0ahUKEwigmb_hp6yAAxUsmVYBHRmJC7sQ_AUICCgD\">\\xe8\\xb3\\xbc\\xe7\\x89\\xa9</a>  <a href=\"https://maps.google.com.tw/maps?q=%E5%85%A8%E7%9F%A5%E8%AF%BB%E8%80%85%E8%A7%86%E8%A7%92+site:https://www.COLAmanhua.com/manga-vw74000/&amp;um=1&amp;ie=UTF-8&amp;sa=X&amp;ved=0ahUKEwigmb_hp6yAAxUsmVYBHRmJC7sQ_AUICSgE\">\\xe5\\x9c\\xb0\\xe5\\x9c\\x96</a>  <a href=\"/search?q=%E5%85%A8%E7%9F%A5%E8%AF%BB%E8%80%85%E8%A7%86%E8%A7%92+site:https://www.COLAmanhua.com/manga-vw74000/&amp;source=lnms&amp;tbm=nws&amp;tbs=qdr:w&amp;sa=X&amp;ved=0ahUKEwigmb_hp6yAAxUsmVYBHRmJC7sQ_AUICigF\">\\xe6\\x96\\xb0\\xe8\\x81\\x9e</a>  <a href=\"/search?q=%E5%85%A8%E7%9F%A5%E8%AF%BB%E8%80%85%E8%A7%86%E8%A7%92+site:https://www.COLAmanhua.com/manga-vw74000/&amp;source=lnms&amp;tbm=bks&amp;sa=X&amp;ved=0ahUKEwigmb_hp6yAAxUsmVYBHRmJC7sQ_AUICygG\">\\xe6\\x9b\\xb8\\xe7\\xb1\\x8d</a>  <div class=\"FElbsf\"><a href=\"/advanced_search\" style=\"white-space:nowrap\" id=\"st-toggle\" role=\"button\">\\xe6\\x90\\x9c\\xe5\\xb0\\x8b\\xe5\\xb7\\xa5\\xe5\\x85\\xb7</a></div> </div> </div> </div> </div><div class=\"Pg70bf wEsjbd Gx5Zad xpd EtOod pkphOe\" id=\"st-card\"><style>.wEsjbd{background-color:#fff;height:44px;white-space:nowrap}.coPU8c{height:60px;overflow-scrolling:touch;overflow-x:auto;overflow-y:hidden}.Xj2aue{height:44px;overflow:hidden}.RnNGze{margin:11px 16px}.wEsjbd div,.wEsjbd a,.wEsjbd li{outline-width:0;outline:none}</style><div class=\"Xj2aue\"><div class=\"coPU8c\"><div class=\"RnNGze\"><style>.PA9J5{display:inline-block}.RXaOfd{display:inline-block;height:22px;position:relative;padding-top:0;padding-bottom:0;padding-right:16px;padding-left:0;line-height:22px;cursor:pointer;text-transform:uppercase;font-size:12px;color:#70757a}.sa1toc{background:#fff;display:none;position:absolute;border:1px solid #dadce0;box-shadow:0 2px 4px rgba(0,0,0,.3);margin:0;white-space:nowrap;z-index:103;line-height:17px;padding-top:5px;padding-bottom:5px;padding-left:0}.PA9J5:hover .sa1toc{display:block}.mGSy8d a:active,.RXaOfd:active{color:#4285f4}</style><div class=\"PA9J5\"><div class=\"RXaOfd\" role=\"button\" tabindex=\"0\"><style>.TWMOUc{display:inline-block;padding-right:14px;white-space:nowrap}.vQYuGf{font-weight:bold}.OmTIzf{border-color:#909090 transparent;border-style:solid;border-width:4px 4px 0 4px;width:0;height:0;margin-left:-10px;top:50%;margin-top:-2px;position:absolute}.RXaOfd:active .OmTIzf{border-color:#4285f4 transparent}</style><div class=\"TWMOUc\">\\xe4\\xb8\\x8d\\xe9\\x99\\x90\\xe5\\x9c\\x8b\\xe5\\xae\\xb6/\\xe5\\x9c\\xb0\\xe5\\x8d\\x80</div><span class=\"OmTIzf\"></span></div><ul class=\"sa1toc ozatM\"><style>.ozatM{font-size:12px;text-transform:uppercase}.ozatM .yNFsl,.ozatM li{list-style-type:none;list-style-position:outside;list-style-image:none}.yNFsl.SkUj4c,.yNFsl a{color:#70757a;text-decoration:none;padding:6px 44px 6px 14px;line-height:17px;display:block}.SkUj4c{background-image:url(//ssl.gstatic.com/ui/v1/menu/checkmark2.png);background-position:right center;background-repeat:no-repeat}.SkUj4c:active{background-color:#f8f9fa}</style><li class=\"yNFsl SkUj4c\">\\xe4\\xb8\\x8d\\xe9\\x99\\x90\\xe5\\x9c\\x8b\\xe5\\xae\\xb6/\\xe5\\x9c\\xb0\\xe5\\x8d\\x80</li><li class=\"yNFsl\"><a href=\"/search?q=%E5%85%A8%E7%9F%A5%E8%AF%BB%E8%80%85%E8%A7%86%E8%A7%92+site:https://www.COLAmanhua.com/manga-vw74000/&amp;tbs=qdr:w,ctr:countryTW&amp;source=lnt&amp;cr=countryTW&amp;sa=X&amp;ved=0ahUKEwigmb_hp6yAAxUsmVYBHRmJC7sQpwUIDQ\">\\xe5\\x9c\\x8b\\xe5\\xae\\xb6/\\xe5\\x9c\\xb0\\xe5\\x8d\\x80\\xef\\xbc\\x9a\\xe5\\x8f\\xb0\\xe7\\x81\\xa3</a></li></ul></div><div class=\"PA9J5\"><div class=\"RXaOfd\" role=\"button\" tabindex=\"0\"><div class=\"TWMOUc\">\\xe4\\xb8\\x8d\\xe9\\x99\\x90\\xe8\\xaa\\x9e\\xe8\\xa8\\x80</div><span class=\"OmTIzf\"></span></div><ul class=\"sa1toc ozatM\"><li class=\"yNFsl SkUj4c\">\\xe4\\xb8\\x8d\\xe9\\x99\\x90\\xe8\\xaa\\x9e\\xe8\\xa8\\x80</li><li class=\"yNFsl\"><a href=\"/search?q=%E5%85%A8%E7%9F%A5%E8%AF%BB%E8%80%85%E8%A7%86%E8%A7%92+site:https://www.COLAmanhua.com/manga-vw74000/&amp;tbs=qdr:w,lr:lang_1zh-CN%7Clang_1zh-TW&amp;source=lnt&amp;lr=lang_zh-CN%7Clang_zh-TW&amp;sa=X&amp;ved=0ahUKEwigmb_hp6yAAxUsmVYBHRmJC7sQpwUIDw\">\\xe6\\x89\\x80\\xe6\\x9c\\x89\\xe4\\xb8\\xad\\xe6\\x96\\x87\\xe7\\xb6\\xb2\\xe9\\xa0\\x81</a></li><li class=\"yNFsl\"><a href=\"/search?q=%E5%85%A8%E7%9F%A5%E8%AF%BB%E8%80%85%E8%A7%86%E8%A7%92+site:https://www.COLAmanhua.com/manga-vw74000/&amp;tbs=qdr:w,lr:lang_1zh-TW&amp;source=lnt&amp;lr=lang_zh-TW&amp;sa=X&amp;ved=0ahUKEwigmb_hp6yAAxUsmVYBHRmJC7sQpwUIEA\">\\xe7\\xb9\\x81\\xe9\\xab\\x94\\xe4\\xb8\\xad\\xe6\\x96\\x87\\xe7\\xb6\\xb2\\xe9\\xa0\\x81</a></li></ul></div><div class=\"PA9J5\"><div class=\"RXaOfd vQYuGf\" role=\"button\" tabindex=\"0\"><div class=\"TWMOUc\"> \\xe9\\x81\\x8e\\xe5\\x8e\\xbb 1 \\xe9\\x80\\xb1</div><span class=\"OmTIzf\"></span></div><ul class=\"sa1toc ozatM\"><li class=\"yNFsl\"><a href=\"/search?q=%E5%85%A8%E7%9F%A5%E8%AF%BB%E8%80%85%E8%A7%86%E8%A7%92+site:https://www.COLAmanhua.com/manga-vw74000/&amp;tbas=0&amp;source=lnt&amp;sa=X&amp;ved=0ahUKEwigmb_hp6yAAxUsmVYBHRmJC7sQpwUIEQ\">\\xe4\\xb8\\x8d\\xe9\\x99\\x90\\xe6\\x99\\x82\\xe9\\x96\\x93</a></li><li class=\"yNFsl\"><a href=\"/search?q=%E5%85%A8%E7%9F%A5%E8%AF%BB%E8%80%85%E8%A7%86%E8%A7%92+site:https://www.COLAmanhua.com/manga-vw74000/&amp;source=lnt&amp;tbs=qdr:h&amp;sa=X&amp;ved=0ahUKEwigmb_hp6yAAxUsmVYBHRmJC7sQpwUIEg\"> \\xe9\\x81\\x8e\\xe5\\x8e\\xbb 1 \\xe5\\xb0\\x8f\\xe6\\x99\\x82</a></li><li class=\"yNFsl\"><a href=\"/search?q=%E5%85%A8%E7%9F%A5%E8%AF%BB%E8%80%85%E8%A7%86%E8%A7%92+site:https://www.COLAmanhua.com/manga-vw74000/&amp;source=lnt&amp;tbs=qdr:d&amp;sa=X&amp;ved=0ahUKEwigmb_hp6yAAxUsmVYBHRmJC7sQpwUIEw\"> \\xe9\\x81\\x8e\\xe5\\x8e\\xbb 24 \\xe5\\xb0\\x8f\\xe6\\x99\\x82</a></li><li class=\"yNFsl SkUj4c\"> \\xe9\\x81\\x8e\\xe5\\x8e\\xbb 1 \\xe9\\x80\\xb1</li><li class=\"yNFsl\"><a href=\"/search?q=%E5%85%A8%E7%9F%A5%E8%AF%BB%E8%80%85%E8%A7%86%E8%A7%92+site:https://www.COLAmanhua.com/manga-vw74000/&amp;source=lnt&amp;tbs=qdr:m&amp;sa=X&amp;ved=0ahUKEwigmb_hp6yAAxUsmVYBHRmJC7sQpwUIFQ\"> \\xe9\\x81\\x8e\\xe5\\x8e\\xbb 1 \\xe5\\x80\\x8b\\xe6\\x9c\\x88</a></li><li class=\"yNFsl\"><a href=\"/search?q=%E5%85%A8%E7%9F%A5%E8%AF%BB%E8%80%85%E8%A7%86%E8%A7%92+site:https://www.COLAmanhua.com/manga-vw74000/&amp;source=lnt&amp;tbs=qdr:y&amp;sa=X&amp;ved=0ahUKEwigmb_hp6yAAxUsmVYBHRmJC7sQpwUIFg\"> \\xe9\\x81\\x8e\\xe5\\x8e\\xbb 1 \\xe5\\xb9\\xb4</a></li></ul></div><div class=\"PA9J5\"><div class=\"RXaOfd\" role=\"button\" tabindex=\"0\"><div class=\"TWMOUc\">\\xe6\\x89\\x80\\xe6\\x9c\\x89\\xe7\\xb5\\x90\\xe6\\x9e\\x9c</div><span class=\"OmTIzf\"></span></div><ul class=\"sa1toc ozatM\"><li class=\"yNFsl SkUj4c\">\\xe6\\x89\\x80\\xe6\\x9c\\x89\\xe7\\xb5\\x90\\xe6\\x9e\\x9c</li><li class=\"yNFsl\"><a href=\"/search?q=%E5%85%A8%E7%9F%A5%E8%AF%BB%E8%80%85%E8%A7%86%E8%A7%92+site:https://www.COLAmanhua.com/manga-vw74000/&amp;tbs=li:1&amp;source=lnt&amp;sa=X&amp;ved=0ahUKEwigmb_hp6yAAxUsmVYBHRmJC7sQpwUIGA\">\\xe4\\xb8\\x80\\xe5\\xad\\x97\\xe4\\xb8\\x8d\\xe5\\xb7\\xae</a></li></ul></div></div></div></div><script nonce=\"Ld59_RqJBMiJ9EUvaIjsVw\">(function(){var a=document.getElementById(\"st-toggle\"),b=document.getElementById(\"st-card\");a&&b&&a.addEventListener(\"click\",function(c){b.style.display=b.style.display?\"\":\"none\";c.preventDefault()},!1);}).call(this);</script></div></div><style>.Gx5Zad{background-color:#fff;margin-bottom:30px;box-shadow:0 0 0 1px #dfe1e5;border-radius:8px}.pkphOe{font-size:14px;line-height:22px;}.EtOod>*:first-child{border-top-left-radius:8px;border-top-right-radius:8px}.EtOod>*:last-child{border-bottom-left-radius:8px;border-bottom-right-radius:8px}.EtOod.avPKgf>*:last-child{border-bottom-left-radius:4px}.EtOod>.qxDOhb>*:first-child{border-top-left-radius:8px;border-top-right-radius:8px}.EtOod>.qxDOhb>*:last-child{border-bottom-left-radius:8px;border-bottom-right-radius:8px}.lnWbdd{display:table;width:100%}.kvKEAb{display:table-cell;vertical-align:top}.nXE3Ob{padding-top:12px}.iafz5e{float:right;padding-left:16px}.zv7zOb{border-radius:8px;display:block}.kCrYT{padding:12px 16px 12px}.Ap5OSd{padding-bottom:12px}.BNeawe{white-space:pre-line;word-wrap:break-word}.tAd8D{font-size:14px;line-height:20px}.tAd8D.HrGdeb{color:rgba(255,255,255,.70)}.tAd8D.AP7Wnd{color:#70757a}.r0bn4c.tr0dw{color:rgba(255,255,255,.70)}.r0bn4c.rQMQod{color:#70757a}.JZCD0c{font-style:italic}.EYqSq{margin:6px 4px 9px 0;border-radius:100%;display:inline-block;height:10px;vertical-align:middle;width:10px}.dfB0uf{color:#3c4043;font-weight:bold}</style><div></div><div><div class=\"Gx5Zad xpd EtOod pkphOe\"><div><div><div><div class=\"kCrYT\"><div><div><div><div class=\"BNeawe tAd8D AP7Wnd\"><div><div class=\"BNeawe tAd8D AP7Wnd\"><span class=\"r0bn4c rQMQod\">\\xe6\\x89\\xbe\\xe4\\xb8\\x8d\\xe5\\x88\\xb0\\xe7\\xac\\xa6\\xe5\\x90\\x88\\xe6\\x90\\x9c\\xe5\\xb0\\x8b\\xe5\\xad\\x97\\xe8\\xa9\\x9e\\xe3\\x80\\x8c</span><span class=\"JZCD0c r0bn4c rQMQod\">\\xe5\\x85\\xa8\\xe7\\x9f\\xa5\\xe8\\xaf\\xbb\\xe8\\x80\\x85\\xe8\\xa7\\x86\\xe8\\xa7\\x92 site:https://www.COLAmanhua.com/manga-vw74000/</span><span class=\"r0bn4c rQMQod\">\\xe3\\x80\\x8d\\xe7\\x9a\\x84\\xe6\\x96\\x87\\xe4\\xbb\\xb6\\xe3\\x80\\x82\\n\\n\\xe5\\xbb\\xba\\xe8\\xad\\xb0\\xef\\xbc\\x9a\\n\\xe8\\xab\\x8b\\xe6\\xaa\\xa2\\xe6\\x9f\\xa5\\xe6\\x9c\\x89\\xe7\\x84\\xa1\\xe9\\x8c\\xaf\\xe5\\x88\\xa5\\xe5\\xad\\x97\\n\\xe8\\xa9\\xa6\\xe8\\xa9\\xa6\\xe4\\xbb\\xa5\\xe5\\x85\\xb6\\xe4\\xbb\\x96\\xe9\\x97\\x9c\\xe9\\x8d\\xb5\\xe5\\xad\\x97\\xe6\\x90\\x9c\\xe5\\xb0\\x8b\\xe3\\x80\\x82\\n\\xe8\\xa9\\xa6\\xe8\\xa9\\xa6\\xe4\\xbb\\xa5\\xe8\\xbc\\x83\\xe7\\xb1\\xa0\\xe7\\xb5\\xb1\\xe7\\x9a\\x84\\xe9\\x97\\x9c\\xe9\\x8d\\xb5\\xe5\\xad\\x97\\xe6\\x90\\x9c\\xe5\\xb0\\x8b\\xe3\\x80\\x82</span></div></div></div></div></div></div></div></div></div></div></div></div><footer> <div>   </div>  <div id=\"EOlPnc\"><div class=\"Srfpq\"><div><span class=\"EYqSq unknown_loc\"></span><span class=\"dfB0uf\">421 \\xe5\\x8f\\xb0\\xe4\\xb8\\xad\\xe5\\xb8\\x82\\xe5\\x90\\x8e\\xe9\\x87\\x8c\\xe5\\x8d\\x80</span></div><span>\\xe6\\xa0\\xb9\\xe6\\x93\\x9a\\xe4\\xbd\\xa0\\xe7\\x9a\\x84 IP \\xe4\\xbd\\x8d\\xe5\\x9d\\x80</span><span>&nbsp;-&nbsp;</span><a href=\"/url?q=https://support.google.com/websearch%3Fp%3Dws_settings_location%26hl%3Dzh-TW&amp;sa=U&amp;ved=0ahUKEwigmb_hp6yAAxUsmVYBHRmJC7sQty4IHA&amp;usg=AOvVaw3-ShdSR5fVWY1Puar01iHS\" aria-label=\"\\xe9\\x80\\xb2\\xe4\\xb8\\x80\\xe6\\xad\\xa5\\xe7\\x9e\\xad\\xe8\\xa7\\xa3\\xe9\\x80\\x99\\xe5\\x80\\x8b\\xe5\\x9c\\xb0\\xe9\\xbb\\x9e\" tabindex=\"0\">\\xe7\\x9e\\xad\\xe8\\xa7\\xa3\\xe8\\xa9\\xb3\\xe6\\x83\\x85</a></div><div><a href=\"/url?q=https://accounts.google.com/ServiceLogin%3Fcontinue%3Dhttps://www.google.com.tw/search%253Fq%253D%2525E5%252585%2525A8%2525E7%25259F%2525A5%2525E8%2525AF%2525BB%2525E8%252580%252585%2525E8%2525A7%252586%2525E8%2525A7%252592%252Bsite:https://www.COLAmanhua.com/manga-vw74000/%2526tbs%253Dqdr:w%26hl%3Dzh-TW&amp;sa=U&amp;ved=0ahUKEwigmb_hp6yAAxUsmVYBHRmJC7sQxs8CCB0&amp;usg=AOvVaw1FQwKqQ4u8MZKhady3xpf4\">\\xe7\\x99\\xbb\\xe5\\x85\\xa5</a></div><div><a class=\"xeDNfc\" href=\"https://www.google.com.tw/preferences?hl=zh-TW&amp;fg=1&amp;sa=X&amp;ved=0ahUKEwigmb_hp6yAAxUsmVYBHRmJC7sQ5fUCCB4\">\\xe8\\xa8\\xad\\xe5\\xae\\x9a</a><a class=\"xeDNfc\" href=\"https://policies.google.com/privacy?hl=zh-TW&amp;fg=1\">\\xe9\\x9a\\xb1\\xe7\\xa7\\x81\\xe6\\xac\\x8a</a><a class=\"xeDNfc\" href=\"https://policies.google.com/terms?hl=zh-TW&amp;fg=1\">\\xe6\\x9c\\x8d\\xe5\\x8b\\x99\\xe6\\xa2\\x9d\\xe6\\xac\\xbe</a><a class=\"xeDNfc\" href=\"/setprefs?hl=zh-TW&amp;prev=https://www.google.com.tw/search?q%3D%25E5%2585%25A8%25E7%259F%25A5%25E8%25AF%25BB%25E8%2580%2585%25E8%25A7%2586%25E8%25A7%2592%2Bsite:https://www.COLAmanhua.com/manga-vw74000/%26tbs%3Dqdr:w%26pccc%3D1&amp;sig=0_ArqtjteR7vwzIfiiUa2CVyFxg9k%3D&amp;cs=2&amp;sa=X&amp;ved=0ahUKEwigmb_hp6yAAxUsmVYBHRmJC7sQjcAJCB8\">\\xe6\\xb7\\xb1\\xe8\\x89\\xb2\\xe4\\xb8\\xbb\\xe9\\xa1\\x8c\\xef\\xbc\\x9a\\xe9\\x97\\x9c\\xe9\\x96\\x89</a></div></div> </footer><script nonce=\"Ld59_RqJBMiJ9EUvaIjsVw\">(function(){var hl=\\'zh-TW\\';(function(){\\nvar f=this||self,g=function(a){return a};var h,k=function(){if(void 0===h){var a=null,b=f.trustedTypes;if(b&&b.createPolicy){try{a=b.createPolicy(\"goog#html\",{createHTML:g,createScript:g,createScriptURL:g})}catch(c){f.console&&f.console.error(c.message)}h=a}else h=a}return h};var p=function(a,b){this.h=a===l&&b||\"\";this.g=m},q=function(a){return a instanceof p&&a.constructor===p&&a.g===m?a.h:\"type_error:Const\"},m={},l={};var r=function(a){this.g=a};r.prototype.toString=function(){return this.g+\"\"};var t=function(a){return a instanceof r&&a.constructor===r?a.g:\"type_error:TrustedResourceUrl\"},x=function(){var a={},b=q(new p(l,\"/complete/search\"));if(!u.test(b))throw Error(\"e`\"+b);var c=b.replace(v,function(e,d){if(!Object.prototype.hasOwnProperty.call(a,d))throw Error(\"f`\"+d+\"`\"+b+\"`\"+JSON.stringify(a));e=a[d];return e instanceof p?q(e):encodeURIComponent(String(e))});return w(c)},v=/%{(\\\\w+)}/g,u=RegExp(\"^((https:)?//[0-9a-z.:[\\\\\\\\]-]+/|/[^/\\\\\\\\\\\\\\\\]|[^:/\\\\\\\\\\\\\\\\%]+/|[^:/\\\\\\\\\\\\\\\\%]*[?#]|about:blank#)\",\"i\"),y=/^([^?#]*)(\\\\?[^#]*)?(#[\\\\s\\\\S]*)?/,z={},w=function(a){var b=k();a=b?b.createScriptURL(a):a;return new r(a,z)},A=function(a,b,c){if(null==c)return b;if(\"string\"===typeof c)return c?a+encodeURIComponent(c):\"\";for(var e in c)if(Object.prototype.hasOwnProperty.call(c,e)){var d=c[e];d=Array.isArray(d)?d:[d];for(var n=0;n<d.length;n++){var O=d[n];null!=O&&(b||(b=a),b+=(b.length>a.length?\"&\":\"\")+encodeURIComponent(e)+\"=\"+encodeURIComponent(String(O)))}}return b};var B={},C=function(a){this.g=a};C.prototype.toString=function(){return this.g.toString()};\\nfunction D(a,b){if(1===a.nodeType){var c=a.tagName;if(\"SCRIPT\"===c||\"STYLE\"===c)throw Error(\"g\");}a.innerHTML=b instanceof C&&b.constructor===C?b.g:\"type_error:SafeHtml\"};function E(a){a=null===a?\"null\":void 0===a?\"undefined\":a;var b=k();a=b?b.createHTML(a):a;return new C(a,B)};var F=document.querySelector(\".l\"),G=document.querySelector(\"#sf\"),H=G.querySelector(\".sbc\"),I=G.querySelector(\"[type=text]\"),J=G.querySelector(\"[type=submit]\"),K=G.querySelector(\".sc\"),L=G.querySelector(\".x\"),M=I.value,N=[],P=-1,Q=M,R,S,T;M||(L&&(L.style.display=\"none\"),U(!1));function U(a){if(H.classList.contains(\"esbc\")){var b=H.classList.contains(\"chsbc\"),c=H.classList.contains(\"rtlsbc\");a&&(K.style.display=\"block\",b?(G.style.borderRadius=\"20px 20px 0 0\",K.style.borderBottom=\"1px solid #DFE1E5\",J.style.borderRadius=c?\"20px 0 0 0\":\"0 20px 0 0\"):H.style.borderRadius=c?\"0 8px 0 0\":\"8px 0 0 0\");a||(K.style.display=\"none\",b?(G.style.borderRadius=\"20px\",K.style.borderBottom=\"none\",J.style.borderRadius=c?\"20px 0 0 20px\":\"0 20px 20px 0\"):H.style.borderRadius=c?\"0 8px 8px 0\":\"8px 0 0 8px\")}}function V(){G.querySelector(\"[name=oq]\").value=Q;G.querySelector(\"[name=aqs]\").value=\"heirloom-srp.\"+(0<=P?P:\"\")+\".\"+(0<N.length?\"0l\"+N.length:\"\")}\\nfunction W(){R=null;if(S){var a={client:\"heirloom-srp\",hl:hl,json:\"t\",callback:\"hS\",q:S};\"undefined\"!==typeof ds&&ds&&(a.ds=ds);var b=document;var c=\"SCRIPT\";\"application/xhtml+xml\"===b.contentType&&(c=c.toLowerCase());c=b.createElement(c);b=x();b=y.exec(t(b).toString());var e=b[3]||\"\";a=w(b[1]+A(\"?\",b[2]||\"\",a)+A(\"#\",e));c.src=t(a);var d,n;(d=(a=null==(n=(d=(c.ownerDocument&&c.ownerDocument.defaultView||window).document).querySelector)?void 0:n.call(d,\"script[nonce]\"))?a.nonce||a.getAttribute(\"nonce\")||\\n\"\":\"\")&&c.setAttribute(\"nonce\",d);document.body.appendChild(c);S=null;R=setTimeout(W,500)}}function X(){for(;K.firstChild;)K.removeChild(K.firstChild);N=[];P=-1;U(!1)}function Y(){var a=K.querySelector(\".scs\");a&&(a.className=\"\");0<=P?(a=K.childNodes[P],a.className=\"scs\",M=a.textContent):M=Q;I.value=M}I.addEventListener(\"focus\",function(){F&&(F.style.display=\"none\")},!1);I.addEventListener(\"blur\",function(){X();F&&(F.style.display=\"\")},!1);I.addEventListener(\"keyup\",function(a){M=I.value;T=!1;13===a.which?V():27===a.which?(X(),F&&(F.style.display=\"\"),M=Q,I.value=M):40===a.which?(P++,P>=N.length&&(P=-1),Y()):38===a.which?(P--,-1>P&&(P=N.length-1),Y()):(a=M)?(L&&(L.style.display=\"\"),S=a,R||W(),Q=a):(L&&(L.style.display=\"none\"),U(!1),X(),Q=\"\",T=!0)},!1);J.addEventListener(\"click\",V,!1);L.addEventListener(\"click\",function(){I.value=\"\";L.style.display=\"none\";U(!1)},!1);H.addEventListener(\"click\",function(){I.focus()},!1);window.hS=function(a){if(!T){X();0===a[1].length&&U(!1);for(var b=0;b<a[1].length;b++){var c=a[1][b][0],e=document.createElement(\"div\");D(e,E(c));e.addEventListener(\"mousedown\",function(d){d.preventDefault();return!1},!1);c=c.replace(/<\\\\/?b>/g,\"\");e.addEventListener(\"click\",function(d){return function(){P=d;V();Y();X();G.submit()}}(b),!1);e.addEventListener(\"mouseover\",function(d){return function(){P!==d&&(P=d,Y())}}(b),!1);K.appendChild(e);U(!0);N.push(c)}}};}).call(this);})();(function(){function b(a){for(a=a.target||a.srcElement;a&&\"A\"!==a.nodeName;)a=a.parentElement;a&&(a.href||\"\").match(/\\\\/search.*[?&]tbm=isch/)&&(a.href+=\"&biw=\"+document.documentElement.clientWidth,a.href+=\"&bih=\"+document.documentElement.clientHeight)}document.addEventListener(\"click\",b,!1);document.addEventListener(\"touchStart\",b,!1);}).call(this);</script></div><!-- cctlcm 5 cctlcm --><textarea class=\"csi\" name=\"csi\" style=\"display:none\"></textarea><script nonce=\"Ld59_RqJBMiJ9EUvaIjsVw\">(function(){var e=\\'CgnBZKDsC6yy2roPmZKu2As\\';var sn=\\'web\\';var timl=false;(function(){function B(a){if(!a||C(a))return 0;if(!a.getBoundingClientRect)return 1;var c=function(b){return b.getBoundingClientRect()};return D(a,c)?0:J(a,c)}function D(a,c){var b;a:{for(b=a;b&&null!==b;b=b.parentElement)if(\"hidden\"===b.style.overflow||\"G-EXPANDABLE-CONTENT\"===b.tagName&&\"hidden\"===getComputedStyle(b).getPropertyValue(\"overflow\"))break a;b=null}if(!b)return!1;a=c(a);c=c(b);return a.bottom<c.top||a.top>=c.bottom||a.right<c.left||a.left>=c.right}\\nfunction C(a){return\"none\"===a.style.display?!0:document.defaultView&&document.defaultView.getComputedStyle?(a=document.defaultView.getComputedStyle(a),!!a&&(\"hidden\"===a.visibility||\"0px\"===a.height&&\"0px\"===a.width)):!1}\\nfunction J(a,c){var b=c(a);a=b.left+window.pageXOffset;c=b.top+window.pageYOffset;var f=b.width;b=b.height;var g=0;if(0>=b&&0>=f)return g;var q=window.innerHeight||document.documentElement.clientHeight;0>c+b?g=2:c>=q&&(g=4);if(0>a+f||a>=(window.innerWidth||document.documentElement.clientWidth))g|=8;g||(g=1,c+b>q&&(g|=4));return g};var K=e,L=sn,M=\"undefined\"===typeof de?!0:!1!==de,N=[];function O(a,c,b){a=\"/gen_204?atyp=csi&s=\"+L+\"&t=\"+a+(\"&lite=1&ei=\"+K+\"&conn=\"+(window.navigator&&window.navigator.connection?window.navigator.connection.type:-1)+c);c=\"&rt=\";for(var f in b)a+=\"\"+c+f+\".\"+b[f],c=\",\";return a}function P(a){a={prt:a};window.wsrt&&(a.wsrt=window.wsrt);return a}function Q(a){window.ping?window.ping(a):(new Image).src=a}\\n(function(){for(var a=(new Date).getTime()-window.start,c=P(a),b=0,f=0,g=0,q=document.getElementsByTagName(\"img\"),r=M?\"&biw=\"+window.innerWidth+\"&bih=\"+window.innerHeight:\"\",E=function(){r+=\"&ima=\"+g;c.aft=b;Q(O(\"aft\",r,c))},x=0,R=function(h,t,u){var n=h.src;h.onload=function(){u&&n&&n===h.src||(f=(new Date).getTime()-window.start,t&&++x===g&&(b=f,E()),h.onload=null)}},S=0,d=void 0;d=q[S++];){var v=B(d),p=!!(v&1);p&&++g;var l=d.hasAttribute(\"data-ilite\"),w=d.hasAttribute(\"data-deferred\"),F=d.hasAttribute(\"data-src\")||\\nd.hasAttribute(\"data-lzysrc\"),y=!w&&!l&&F;N.push([v,w||l,y,!!(google.ldi&&d.id&&google.ldi[d.id])||l&&F]);l=(v=d.complete&&!w&&!(p&&y))&&Number(d.getAttribute(\"data-iml\"))||0;v&&l?(p&&++x,l&&(d=l-window.start,p&&(b=Math.max(b,d)),f=Math.max(f,d))):R(d,p,w||y)}b||(b=a);f||(f=b);x===g&&E();google.rglh&&google.rglh();window.addEventListener(\"load\",function(){window.setTimeout(function(){c.ol=(new Date).getTime()-window.start;timl&&(c.iml=f);var h=window.performance&&window.performance.timing;h&&(c.rqst=\\nh.responseEnd-h.requestStart,c.rspt=h.responseEnd-h.responseStart);for(var t=h=0,u=0,n=0,G=0,H=0,T=0,k;k=N[T++];){var m=k[0],z=k[1],I=k[2];k=k[3];var U=0==m,V=m&8,A=m&1;m=!A&&m&4;A&&(z&&!k||++u,I&&++H);z&&(A&&k&&++h,m&&!k&&++t);U||V?I||++G:z||++n}r+=\"&ime=\"+u+\"&imel=\"+H+(\"&imex=\"+n+\"&imeh=\"+G)+(\"&imea=\"+h+\"&imeb=\"+t);Q(O(\"all\",r,c))},0)},!1)})();}).call(this);})();</script><script nonce=\"Ld59_RqJBMiJ9EUvaIjsVw\">(function(){var e=\\'CgnBZKDsC6yy2roPmZKu2As\\';(function(){var a=e;2===(window.performance&&window.performance.navigation&&window.performance.navigation.type)&&window.ping(\"/gen_204?ct=backbutton&ei=\"+a);}).call(this);})();(function(){var b=[function(){google.tick&&google.tick(\"load\",\"dcl\")}];google.dclc=function(a){b.length?b.push(a):a()};function c(){for(var a=b.shift();a;)a(),a=b.shift()}window.addEventListener?(document.addEventListener(\"DOMContentLoaded\",c,!1),window.addEventListener(\"load\",c,!1)):window.attachEvent&&window.attachEvent(\"onload\",c);}).call(this);(function(){\\nvar b=function(a){var c=0;return function(){return c<a.length?{done:!1,value:a[c++]}:{done:!0}}},e=this||self;var g,h;a:{for(var k=[\"CLOSURE_FLAGS\"],l=e,n=0;n<k.length;n++)if(l=l[k[n]],null==l){h=null;break a}h=l}var p=h&&h[610401301];g=null!=p?p:!1;var q,r=e.navigator;q=r?r.userAgentData||null:null;function t(a){return g?q?q.brands.some(function(c){return(c=c.brand)&&-1!=c.indexOf(a)}):!1:!1}function u(a){var c;a:{if(c=e.navigator)if(c=c.userAgent)break a;c=\"\"}return-1!=c.indexOf(a)};function v(){return g?!!q&&0<q.brands.length:!1}function w(){return u(\"Safari\")&&!(x()||(v()?0:u(\"Coast\"))||(v()?0:u(\"Opera\"))||(v()?0:u(\"Edge\"))||(v()?t(\"Microsoft Edge\"):u(\"Edg/\"))||(v()?t(\"Opera\"):u(\"OPR\"))||u(\"Firefox\")||u(\"FxiOS\")||u(\"Silk\")||u(\"Android\"))}function x(){return v()?t(\"Chromium\"):(u(\"Chrome\")||u(\"CriOS\"))&&!(v()?0:u(\"Edge\"))||u(\"Silk\")}function y(){return u(\"Android\")&&!(x()||u(\"Firefox\")||u(\"FxiOS\")||(v()?0:u(\"Opera\"))||u(\"Silk\"))};var z=v()?!1:u(\"Trident\")||u(\"MSIE\");y();x();w();var A=!z&&!w(),D=function(a){if(/-[a-z]/.test(\"ved\"))return null;if(A&&a.dataset){if(y()&&!(\"ved\"in a.dataset))return null;a=a.dataset.ved;return void 0===a?null:a}return a.getAttribute(\"data-\"+\"ved\".replace(/([A-Z])/g,\"-$1\").toLowerCase())};var E=[],F=null;function G(a){a=a.target;var c=performance.now(),f=[],H=f.concat,d=E;if(!(d instanceof Array)){var m=\"undefined\"!=typeof Symbol&&Symbol.iterator&&d[Symbol.iterator];if(m)d=m.call(d);else if(\"number\"==typeof d.length)d={next:b(d)};else throw Error(\"a`\"+String(d));for(var B=[];!(m=d.next()).done;)B.push(m.value);d=B}E=H.call(f,d,[c]);if(a&&a instanceof HTMLElement)if(a===F){if(c=4<=E.length)c=5>(E[E.length-1]-E[E.length-4])/1E3;if(c){c=google.getEI(a);a.hasAttribute(\"data-ved\")?f=a?D(a)||\"\":\"\":f=(f=\\na.closest(\"[data-ved]\"))?D(f)||\"\":\"\";f=f||\"\";if(a.hasAttribute(\"jsname\"))a=a.getAttribute(\"jsname\");else{var C;a=null==(C=a.closest(\"[jsname]\"))?void 0:C.getAttribute(\"jsname\")}google.log(\"rcm\",\"&ei=\"+c+\"&ved=\"+f+\"&jsname=\"+(a||\"\"))}}else F=a,E=[c]}window.document.addEventListener(\"DOMContentLoaded\",function(){document.body.addEventListener(\"click\",G)});}).call(this);window.jsl=window.jsl||{};window.jsl.dh=function(a,b,f){try{var g=document.getElementById(a);if(g)g.innerHTML=b,f&&f();else{var c={id:a,script:String(!!f),milestone:String(google.jslm||0)};google.jsla&&(c.async=google.jsla);var h=a.indexOf(\"_\"),d=0<h?a.substring(0,h):\"\",k=document.createElement(\"div\");k.innerHTML=b;var e=k.children[0];if(e&&(c.tag=e.tagName,c[\"class\"]=String(e.className||null),c.name=String(e.getAttribute(\"jsname\")),d)){a=[];var l=document.querySelectorAll(\\'[id^=\"\\'+d+\\'_\"]\\');for(b=0;b<l.length;++b)a.push(l[b].id);c.ids=a.join(\",\")}google.ml(Error(d?\"Missing ID with prefix \"+d:\"Missing ID\"),!1,c)}}catch(m){google.ml(m,!0,{\"jsl.dh\":!0})}};(function(){var x=false;google.jslm=x?2:1;})();(function(){(function(){google.csct={};google.csct.ps=\\'AOvVaw03LGEluy9ZYps8w-Idjpj-\\\\x26ust\\\\x3d1690458762235221\\';})();})();(function(){(function(){google.csct.rd=true;})();})();(function(){(function(){google.csct.rl=true;})();})();google.drty&&google.drty(undefined,true);</script></body></html>'"
      ]
     },
     "execution_count": 10,
     "metadata": {},
     "output_type": "execute_result"
    }
   ],
   "source": [
    "crawler_comic(comic_dict, '全知读者视角')"
   ]
  },
  {
   "cell_type": "code",
   "execution_count": 3,
   "metadata": {},
   "outputs": [],
   "source": [
    "        comic_dict = {\n",
    "            '全知读者视角':'vw74000',\n",
    "            '全职法师':'yo40340',\n",
    "            '重生最强玩家':'vo74545',\n",
    "            '我独自满级新手':'ox32229',\n",
    "            '玄幻，我能无限顿悟':'ml32386',\n",
    "            '死灵法师：亡灵支配者':'ky84590',\n",
    "            '我可以无限顿悟':'rq68930',\n",
    "            '炼体十万层：我养的狗都是大帝':\"ke39760\",\n",
    "        }"
   ]
  },
  {
   "cell_type": "code",
   "execution_count": null,
   "metadata": {},
   "outputs": [],
   "source": [
    "url = 'https://www.colamanhua.com/manga-ml32386/1/200.html'\n",
    "\n",
    "request_site = Request(url, headers = {'User-Agent': 'Mozilla/5.0',\n",
    "        'Accept': 'text/html,application/xhtml+xml,application/xml;q=0.9,*/*;q=0.8',\n",
    "        'Accept-Charset': 'ISO-8859-1,utf-8;q=0.7,*;q=0.3',\n",
    "        'Accept-Encoding': 'none',\n",
    "        'Accept-Language': 'en-US,en;q=0.8',\n",
    "        'Connection': 'keep-alive'})\n",
    "\n",
    "webpage = urlopen(request_site).read()\n",
    "\n",
    "webpage"
   ]
  },
  {
   "cell_type": "code",
   "execution_count": 11,
   "metadata": {},
   "outputs": [],
   "source": [
    "def get_week_comic(comic_dict={}):\n",
    "    \"\"\"\n",
    "    call this function to return recent week comic dict with url as value\n",
    "    \"\"\"\n",
    "    def crawler_comic(comic_dict={}, conic_name=''):\n",
    "       \"\"\"\n",
    "       Args:\n",
    "           comic_dict (dict, optional): _description_. Defaults to {}.\n",
    "           conic_name (str, optional): _description_. Defaults to ''.\n",
    "       return:\n",
    "              json from google result\n",
    "       \"\"\"\n",
    "       def comic_encode(conic_name=''):\n",
    "              #translate chinese to google search acceptable form\n",
    "              # conic_name = '全知读者视角'\n",
    "              return str(conic_name.encode('utf-8')).replace('\\\\x','%').split(\"'\")[1].upper() \n",
    "       #search in google for recent 1 week and get url\n",
    "       # url=\"https://www.google.com.tw/search?q=%E5%85%A8%E7%9F%A5%E8%AF%BB%E8%80%85%E8%A7%86%E8%A7%92+site%3Ahttps%3A%2F%2Fwww.colamanhua.com%2Fmanga-vw74000%2F&biw=1310&bih=961&tbs=qdr%3Aw&ei=9NmmZKXMHpj7-Qa-nqyoCQ&ved=0ahUKEwilluyZr_r_AhWYfd4KHT4PC5UQ4dUDCA8&oq=%E5%85%A8%E7%9F%A5%E8%AF%BB%E8%80%85%E8%A7%86%E8%A7%92+site%3Ahttps%3A%2F%2Fwww.colamanhua.com%2Fmanga-vw74000%2F&gs_lcp=Cgxnd3Mtd2l6LXNlcnAQDEoECEEYAVDaF1jaF2DxImgCcAB4AIABJ4gBJ5IBATGYAQCgAQKgAQHAAQE&sclient=gws-wiz-serp\"\n",
    "       url=f\"https://www.google.com.tw/search?q={comic_encode(conic_name)}+site%3Ahttps%3A%2F%2Fwww.colamanhua.com%2Fmanga-{comic_dict[conic_name]}%2F&tbs=qdr%3Aw\"\n",
    "       request_site = Request(url, headers = {'User-Agent': 'Mozilla/5.0',\n",
    "              'Accept': 'text/html,application/xhtml+xml,application/xml;q=0.9,*/*;q=0.8',\n",
    "              'Accept-Charset': 'ISO-8859-1,utf-8;q=0.7,*;q=0.3',\n",
    "              'Accept-Encoding': 'none',\n",
    "              'Accept-Language': 'en-US,en;q=0.8',\n",
    "              'Connection': 'keep-alive'})\n",
    "       webpage = urlopen(request_site).read()\n",
    "       print('Return data below:')\n",
    "       print(webpage[:500])\n",
    "       return webpage\n",
    "   \n",
    "    def get_url(raw_json='', conic_name=''):\n",
    "       \"\"\"_summary_\n",
    "\n",
    "       Args:\n",
    "           raw_json (str, optional): _description_. Defaults to ''.\n",
    "           conic_name (str, optional): _description_. Defaults to ''.\n",
    "           \n",
    "       return:\n",
    "              saver: list of data\n",
    "       \"\"\"\n",
    "       saver=[]\n",
    "       soup = BeautifulSoup(raw_json, 'html.parser')\n",
    "       a_tags = soup.find_all('a')\n",
    "       for tag in a_tags:\n",
    "       # print(tag.get('href'))\n",
    "              if conic_name in tag.text:\n",
    "                     test = tag.get('href')\n",
    "                     test=test.split('=')[1].split('&')[0]\n",
    "                     print(test)\n",
    "                     if '.html' in test:\n",
    "                            #sometimes there will be main page be included, exclude this\n",
    "                            saver.append(test)\n",
    "       return saver\n",
    "    if len(comic_dict)==0:\n",
    "        #assign default\n",
    "        comic_dict = {\n",
    "            '全知读者视角':'vw74000',\n",
    "            '全职法师':'yo40340',\n",
    "            '重生最强玩家':'vo74545',\n",
    "            '我独自满级新手':'ox32229',\n",
    "            '玄幻，我能无限顿悟':'ml32386',\n",
    "            '死灵法师：亡灵支配者':'ky84590',\n",
    "            '我可以无限顿悟':'rq68930',\n",
    "            '炼体十万层：我养的狗都是大帝':\"ke39760\",\n",
    "        }\n",
    "\n",
    "    week_comic = {}\n",
    "    for comic_name in comic_dict:\n",
    "        raw_json = crawler_comic(comic_dict,comic_name)\n",
    "        tmp_url_lists = get_url(raw_json, comic_name)\n",
    "        if len(tmp_url_lists)>0:\n",
    "            for tmp_url_list in tmp_url_lists:\n",
    "                week_comic[tmp_url_list]=comic_name\n",
    "    return week_comic"
   ]
  },
  {
   "cell_type": "code",
   "execution_count": 12,
   "metadata": {},
   "outputs": [
    {
     "name": "stdout",
     "output_type": "stream",
     "text": [
      "Return data below:\n",
      "b'<!doctype html><html lang=\"zh-TW\"><head><meta charset=\"UTF-8\"><meta content=\"/images/branding/googleg/1x/googleg_standard_color_128dp.png\" itemprop=\"image\"><title>\\xe5\\x85\\xa8\\xe7\\x9f\\xa5\\xe8\\xaf\\xbb\\xe8\\x80\\x85\\xe8\\xa7\\x86\\xe8\\xa7\\x92 site:https://www.colamanhua.com/manga-vw74000/ - Google \\xe6\\x90\\x9c\\xe5\\xb0\\x8b</title><script nonce=\"rwAcCW1QGcCqJAt68p93sg\">(function(){\\ndocument.documentElement.addEventListener(\"submit\",function(b){var a;if(a=b.target){var c=a.getAttribute(\"data-submitfalse\");a=\"1\"===c||\"q\"===c&&!a.elements.q.value?!0:!1}else a=!1;a&&(b.preventDe'\n",
      "Return data below:\n",
      "b'<!doctype html><html lang=\"zh-TW\"><head><meta charset=\"UTF-8\"><meta content=\"/images/branding/googleg/1x/googleg_standard_color_128dp.png\" itemprop=\"image\"><title>\\xe5\\x85\\xa8\\xe8\\x81\\x8c\\xe6\\xb3\\x95\\xe5\\xb8\\x88 site:https://www.colamanhua.com/manga-yo40340/ - Google \\xe6\\x90\\x9c\\xe5\\xb0\\x8b</title><script nonce=\"mhj7T-ofzffoGJHTcvRqMg\">(function(){\\ndocument.documentElement.addEventListener(\"submit\",function(b){var a;if(a=b.target){var c=a.getAttribute(\"data-submitfalse\");a=\"1\"===c||\"q\"===c&&!a.elements.q.value?!0:!1}else a=!1;a&&(b.preventDefault('\n",
      "https://www.colamanhua.com/manga-yo40340/\n",
      "https://www.colamanhua.com/manga-yo40340/1/1068.html\n",
      "https://www.colamanhua.com/manga-yo40340/1/1066.html\n",
      "https://www.colamanhua.com/manga-yo40340/1/1067.html\n",
      "https://www.colamanhua.com/manga-yo40340/1/1069.html\n",
      "Return data below:\n",
      "b'<!doctype html><html lang=\"zh-TW\"><head><meta charset=\"UTF-8\"><meta content=\"/images/branding/googleg/1x/googleg_standard_color_128dp.png\" itemprop=\"image\"><title>\\xe9\\x87\\x8d\\xe7\\x94\\x9f\\xe6\\x9c\\x80\\xe5\\xbc\\xba\\xe7\\x8e\\xa9\\xe5\\xae\\xb6 site:https://www.colamanhua.com/manga-vo74545/ - Google \\xe6\\x90\\x9c\\xe5\\xb0\\x8b</title><script nonce=\"b9QGZel6QAZMVM91pq23Ag\">(function(){\\ndocument.documentElement.addEventListener(\"submit\",function(b){var a;if(a=b.target){var c=a.getAttribute(\"data-submitfalse\");a=\"1\"===c||\"q\"===c&&!a.elements.q.value?!0:!1}else a=!1;a&&(b.preventDe'\n",
      "Return data below:\n",
      "b'<!doctype html><html lang=\"zh-TW\"><head><meta charset=\"UTF-8\"><meta content=\"/images/branding/googleg/1x/googleg_standard_color_128dp.png\" itemprop=\"image\"><title>\\xe6\\x88\\x91\\xe7\\x8b\\xac\\xe8\\x87\\xaa\\xe6\\xbb\\xa1\\xe7\\xba\\xa7\\xe6\\x96\\xb0\\xe6\\x89\\x8b site:https://www.colamanhua.com/manga-ox32229/ - Google \\xe6\\x90\\x9c\\xe5\\xb0\\x8b</title><script nonce=\"YM7btY7QU-a_R6jVl-gKCg\">(function(){\\ndocument.documentElement.addEventListener(\"submit\",function(b){var a;if(a=b.target){var c=a.getAttribute(\"data-submitfalse\");a=\"1\"===c||\"q\"===c&&!a.elements.q.value?!0:!1}else a=!1;a&&(b.preven'\n",
      "Return data below:\n",
      "b'<!doctype html><html lang=\"zh-TW\"><head><meta charset=\"UTF-8\"><meta content=\"/images/branding/googleg/1x/googleg_standard_color_128dp.png\" itemprop=\"image\"><title>\\xe7\\x8e\\x84\\xe5\\xb9\\xbb\\xef\\xbc\\x8c\\xe6\\x88\\x91\\xe8\\x83\\xbd\\xe6\\x97\\xa0\\xe9\\x99\\x90\\xe9\\xa1\\xbf\\xe6\\x82\\x9f site:https://www.colamanhua.com/manga-ml32386/ - Google \\xe6\\x90\\x9c\\xe5\\xb0\\x8b</title><script nonce=\"ztiH1IrCHJVkJGrusjJVFA\">(function(){\\ndocument.documentElement.addEventListener(\"submit\",function(b){var a;if(a=b.target){var c=a.getAttribute(\"data-submitfalse\");a=\"1\"===c||\"q\"===c&&!a.elements.q.value?!0:!1}else a=!1;a&&(b.'\n",
      "https://www.colamanhua.com/manga-ml32386/\n",
      "https://www.colamanhua.com/manga-ml32386/1/232.html\n",
      "https://www.colamanhua.com/manga-ml32386/1/230.html\n",
      "Return data below:\n",
      "b'<!doctype html><html lang=\"zh-TW\"><head><meta charset=\"UTF-8\"><meta content=\"/images/branding/googleg/1x/googleg_standard_color_128dp.png\" itemprop=\"image\"><title>\\xe6\\xad\\xbb\\xe7\\x81\\xb5\\xe6\\xb3\\x95\\xe5\\xb8\\x88\\xef\\xbc\\x9a\\xe4\\xba\\xa1\\xe7\\x81\\xb5\\xe6\\x94\\xaf\\xe9\\x85\\x8d\\xe8\\x80\\x85 site:https://www.colamanhua.com/manga-ky84590/ - Google \\xe6\\x90\\x9c\\xe5\\xb0\\x8b</title><script nonce=\"iHglS9S9CwqNTaiMmQ4C9g\">(function(){\\ndocument.documentElement.addEventListener(\"submit\",function(b){var a;if(a=b.target){var c=a.getAttribute(\"data-submitfalse\");a=\"1\"===c||\"q\"===c&&!a.elements.q.value?!0:!1}else a=!1;a&&'\n",
      "Return data below:\n",
      "b'<!doctype html><html lang=\"zh-TW\"><head><meta charset=\"UTF-8\"><meta content=\"/images/branding/googleg/1x/googleg_standard_color_128dp.png\" itemprop=\"image\"><title>\\xe6\\x88\\x91\\xe5\\x8f\\xaf\\xe4\\xbb\\xa5\\xe6\\x97\\xa0\\xe9\\x99\\x90\\xe9\\xa1\\xbf\\xe6\\x82\\x9f site:https://www.colamanhua.com/manga-rq68930/ - Google \\xe6\\x90\\x9c\\xe5\\xb0\\x8b</title><script nonce=\"3o8uHcEZE6XOn5BnUBK9rw\">(function(){\\ndocument.documentElement.addEventListener(\"submit\",function(b){var a;if(a=b.target){var c=a.getAttribute(\"data-submitfalse\");a=\"1\"===c||\"q\"===c&&!a.elements.q.value?!0:!1}else a=!1;a&&(b.preven'\n",
      "https://www.colamanhua.com/manga-rq68930/\n",
      "https://www.colamanhua.com/manga-rq68930/1/76.html\n",
      "https://www.colamanhua.com/manga-rq68930/1/75.html\n",
      "Return data below:\n",
      "b'<!doctype html><html lang=\"zh-TW\"><head><meta charset=\"UTF-8\"><meta content=\"/images/branding/googleg/1x/googleg_standard_color_128dp.png\" itemprop=\"image\"><title>\\xe7\\x82\\xbc\\xe4\\xbd\\x93\\xe5\\x8d\\x81\\xe4\\xb8\\x87\\xe5\\xb1\\x82\\xef\\xbc\\x9a\\xe6\\x88\\x91\\xe5\\x85\\xbb\\xe7\\x9a\\x84\\xe7\\x8b\\x97\\xe9\\x83\\xbd\\xe6\\x98\\xaf\\xe5\\xa4\\xa7\\xe5\\xb8\\x9d site:https://www.colamanhua.com/manga-ke39760/ - Google \\xe6\\x90\\x9c\\xe5\\xb0\\x8b</title><script nonce=\"R5VcZZfNo5AtTzdPncEpMQ\">(function(){\\ndocument.documentElement.addEventListener(\"submit\",function(b){var a;if(a=b.target){var c=a.getAttribute(\"data-submitfalse\");a=\"1\"===c||\"q\"===c&&!a.elements.q.value?!0:!1}e'\n"
     ]
    },
    {
     "data": {
      "text/plain": [
       "{'https://www.colamanhua.com/manga-yo40340/1/1068.html': '全职法师',\n",
       " 'https://www.colamanhua.com/manga-yo40340/1/1066.html': '全职法师',\n",
       " 'https://www.colamanhua.com/manga-yo40340/1/1067.html': '全职法师',\n",
       " 'https://www.colamanhua.com/manga-yo40340/1/1069.html': '全职法师',\n",
       " 'https://www.colamanhua.com/manga-ml32386/1/232.html': '玄幻，我能无限顿悟',\n",
       " 'https://www.colamanhua.com/manga-ml32386/1/230.html': '玄幻，我能无限顿悟',\n",
       " 'https://www.colamanhua.com/manga-rq68930/1/76.html': '我可以无限顿悟',\n",
       " 'https://www.colamanhua.com/manga-rq68930/1/75.html': '我可以无限顿悟'}"
      ]
     },
     "execution_count": 12,
     "metadata": {},
     "output_type": "execute_result"
    }
   ],
   "source": [
    "get_week_comic()\n"
   ]
  },
  {
   "cell_type": "code",
   "execution_count": null,
   "metadata": {},
   "outputs": [],
   "source": [
    "https://feeds.feedburner.com/darencademy/GwRT"
   ]
  }
 ],
 "metadata": {
  "kernelspec": {
   "display_name": "Python 3.10.4 64-bit",
   "language": "python",
   "name": "python3"
  },
  "language_info": {
   "codemirror_mode": {
    "name": "ipython",
    "version": 3
   },
   "file_extension": ".py",
   "mimetype": "text/x-python",
   "name": "python",
   "nbconvert_exporter": "python",
   "pygments_lexer": "ipython3",
   "version": "3.9.13"
  },
  "vscode": {
   "interpreter": {
    "hash": "3ad933181bd8a04b432d3370b9dc3b0662ad032c4dfaa4e4f1596c548f763858"
   }
  }
 },
 "nbformat": 4,
 "nbformat_minor": 4
}
