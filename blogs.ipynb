{
 "cells": [
  {
   "cell_type": "code",
   "execution_count": 1,
   "metadata": {},
   "outputs": [],
   "source": [
    "from blogs import book_dict"
   ]
  },
  {
   "cell_type": "code",
   "execution_count": 6,
   "metadata": {},
   "outputs": [],
   "source": [
    "tags_key = {}\n",
    "for key,values in book_dict.items():\n",
    "    tags = values.split('#')\n",
    "    if len(tags) > 1:\n",
    "        ## remove \\n and space\n",
    "        tags = [x.replace(\"\\n\", \"\").replace(\" \", \"\") for x in tags[1:]]\n",
    "        for tag in tags:\n",
    "            if tag in tags_key:\n",
    "                tags_key[tag].append(key)\n",
    "            else:\n",
    "                tags_key[tag] = [key]"
   ]
  },
  {
   "cell_type": "code",
   "execution_count": 7,
   "metadata": {},
   "outputs": [
    {
     "data": {
      "text/plain": [
       "{'程式': ['Deep Learning 深度學習基礎'],\n",
       " '財經': ['百萬職業講師的商業策略', '商業簡史', '平衡心態'],\n",
       " '心理學': ['平衡心態', '人類預測大歷史'],\n",
       " '歷史': ['人類預測大歷史']}"
      ]
     },
     "execution_count": 7,
     "metadata": {},
     "output_type": "execute_result"
    }
   ],
   "source": [
    "tags_key[]"
   ]
  },
  {
   "cell_type": "code",
   "execution_count": 12,
   "metadata": {},
   "outputs": [
    {
     "data": {
      "text/plain": [
       "['程式', '財經', '心理學', '歷史']"
      ]
     },
     "execution_count": 12,
     "metadata": {},
     "output_type": "execute_result"
    }
   ],
   "source": []
  },
  {
   "cell_type": "code",
   "execution_count": 13,
   "metadata": {},
   "outputs": [
    {
     "data": {
      "text/plain": [
       "['All', '程式', '財經', '心理學', '歷史']"
      ]
     },
     "execution_count": 13,
     "metadata": {},
     "output_type": "execute_result"
    }
   ],
   "source": [
    "['All']+list(tags_key.keys())"
   ]
  }
 ],
 "metadata": {
  "kernelspec": {
   "display_name": "Python 3.10.4 64-bit",
   "language": "python",
   "name": "python3"
  },
  "language_info": {
   "codemirror_mode": {
    "name": "ipython",
    "version": 3
   },
   "file_extension": ".py",
   "mimetype": "text/x-python",
   "name": "python",
   "nbconvert_exporter": "python",
   "pygments_lexer": "ipython3",
   "version": "3.9.13"
  },
  "vscode": {
   "interpreter": {
    "hash": "3ad933181bd8a04b432d3370b9dc3b0662ad032c4dfaa4e4f1596c548f763858"
   }
  }
 },
 "nbformat": 4,
 "nbformat_minor": 4
}
