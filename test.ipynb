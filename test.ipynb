{
 "cells": [
  {
   "cell_type": "code",
   "execution_count": null,
   "metadata": {},
   "outputs": [],
   "source": [
    "## Q: input a binary format with uncertain length, return a list with length 21, each element is a binary format, the first element set to 0\n",
    "def bin_to_list(bin_str):\n",
    "    bin_str = bin_str.zfill(21)\n",
    "    return [bin_str[i:i+3] for i in range(0, len(bin_str), 3)]"
   ]
  },
  {
   "cell_type": "code",
   "execution_count": null,
   "metadata": {},
   "outputs": [],
   "source": [
    "## q: I want to build a streamlit function, which accept user text input called \"FID\" and user text input called \"ROW\" and user text input called \"COL\" and a buttom, when click buttom, summit these three inputs to function called test()\n",
    "## a:\n",
    "import streamlit as st\n",
    "def test(FID, ROW, COL):\n",
    "    st.write(FID, ROW, COL)\n",
    "st.title('test')\n",
    "FID = st.text_input('FID')\n",
    "ROW = st.text_input('ROW')\n",
    "COL = st.text_input('COL')\n",
    "st.button('submit', on_click=test, args=(FID, ROW, COL))\n"
   ]
  },
  {
   "cell_type": "code",
   "execution_count": null,
   "metadata": {},
   "outputs": [],
   "source": [
    "## q: change a string first element to 1\n",
    "## a:\n",
    "def change_first_element_to_1(bin_str):\n",
    "    return '1' + bin_str[1:]"
   ]
  },
  {
   "cell_type": "code",
   "execution_count": null,
   "metadata": {},
   "outputs": [],
   "source": []
  }
 ],
 "metadata": {
  "kernelspec": {
   "display_name": "Python 3.10.4 64-bit",
   "language": "python",
   "name": "python3"
  },
  "language_info": {
   "codemirror_mode": {
    "name": "ipython",
    "version": 3
   },
   "file_extension": ".py",
   "mimetype": "text/x-python",
   "name": "python",
   "nbconvert_exporter": "python",
   "pygments_lexer": "ipython3",
   "version": "3.10.4"
  },
  "vscode": {
   "interpreter": {
    "hash": "3ad933181bd8a04b432d3370b9dc3b0662ad032c4dfaa4e4f1596c548f763858"
   }
  }
 },
 "nbformat": 4,
 "nbformat_minor": 4
}
